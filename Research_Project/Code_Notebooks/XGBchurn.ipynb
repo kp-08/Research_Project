{
  "cells": [
    {
      "cell_type": "markdown",
      "metadata": {
        "id": "XEBDNROaeVyk"
      },
      "source": [
        "# **Load the dataset**\n"
      ]
    },
    {
      "cell_type": "markdown",
      "metadata": {
        "id": "J6j49_wsf_AO"
      },
      "source": [
        "Import Required Libraries"
      ]
    },
    {
      "cell_type": "code",
      "execution_count": null,
      "metadata": {
        "id": "EVk-fWJ_f983"
      },
      "outputs": [],
      "source": [
        "import pandas as pd\n",
        "import numpy as np\n",
        "import matplotlib.pyplot as plt\n",
        "import seaborn as sns\n"
      ]
    },
    {
      "cell_type": "code",
      "execution_count": null,
      "metadata": {
        "id": "vRMynxnLc1lT"
      },
      "outputs": [],
      "source": [
        "# Load the dataset\n",
        "df = pd.read_csv('drive/MyDrive/Project_data/ecommerce_customer_data_custom_ratios.csv')"
      ]
    },
    {
      "cell_type": "markdown",
      "metadata": {
        "id": "aXa_Mip0eQsR"
      },
      "source": [
        "Initial Dataset Overview"
      ]
    },
    {
      "cell_type": "code",
      "execution_count": null,
      "metadata": {
        "colab": {
          "base_uri": "https://localhost:8080/"
        },
        "id": "dwtrLbkxeuiz",
        "outputId": "7c30fd9d-8118-4ff7-f5b3-c3a648841b0c"
      },
      "outputs": [
        {
          "output_type": "stream",
          "name": "stdout",
          "text": [
            "   Customer ID        Purchase Date Product Category  Product Price  Quantity  \\\n",
            "0        46251  2020-09-08 09:38:32      Electronics             12         3   \n",
            "1        46251  2022-03-05 12:56:35             Home            468         4   \n",
            "2        46251  2022-05-23 18:18:01             Home            288         2   \n",
            "3        46251  2020-11-12 13:13:29         Clothing            196         1   \n",
            "4        13593  2020-11-27 17:55:11             Home            449         1   \n",
            "\n",
            "   Total Purchase Amount Payment Method  Customer Age  Returns  \\\n",
            "0                    740    Credit Card            37      0.0   \n",
            "1                   2739         PayPal            37      0.0   \n",
            "2                   3196         PayPal            37      0.0   \n",
            "3                   3509         PayPal            37      0.0   \n",
            "4                   3452    Credit Card            49      0.0   \n",
            "\n",
            "         Customer Name  Age  Gender  Churn  \n",
            "0  Christine Hernandez   37    Male      0  \n",
            "1  Christine Hernandez   37    Male      0  \n",
            "2  Christine Hernandez   37    Male      0  \n",
            "3  Christine Hernandez   37    Male      0  \n",
            "4          James Grant   49  Female      1  \n",
            "Dataset Shape: (250000, 13)\n",
            "        Customer ID  Product Price       Quantity  Total Purchase Amount  \\\n",
            "count  250000.00000  250000.000000  250000.000000          250000.000000   \n",
            "mean    25004.03624     254.659512       2.998896            2725.370732   \n",
            "std     14428.27959     141.568577       1.414694            1442.933565   \n",
            "min         1.00000      10.000000       1.000000             100.000000   \n",
            "25%     12497.75000     132.000000       2.000000            1477.000000   \n",
            "50%     25018.00000     255.000000       3.000000            2724.000000   \n",
            "75%     37506.00000     377.000000       4.000000            3974.000000   \n",
            "max     50000.00000     500.000000       5.000000            5350.000000   \n",
            "\n",
            "        Customer Age        Returns            Age          Churn  \n",
            "count  250000.000000  202404.000000  250000.000000  250000.000000  \n",
            "mean       43.940528       0.497861      43.940528       0.199496  \n",
            "std        15.350246       0.499997      15.350246       0.399622  \n",
            "min        18.000000       0.000000      18.000000       0.000000  \n",
            "25%        31.000000       0.000000      31.000000       0.000000  \n",
            "50%        44.000000       0.000000      44.000000       0.000000  \n",
            "75%        57.000000       1.000000      57.000000       0.000000  \n",
            "max        70.000000       1.000000      70.000000       1.000000  \n",
            "\n",
            "Dataset Info:\n",
            "\n",
            "<class 'pandas.core.frame.DataFrame'>\n",
            "RangeIndex: 250000 entries, 0 to 249999\n",
            "Data columns (total 13 columns):\n",
            " #   Column                 Non-Null Count   Dtype  \n",
            "---  ------                 --------------   -----  \n",
            " 0   Customer ID            250000 non-null  int64  \n",
            " 1   Purchase Date          250000 non-null  object \n",
            " 2   Product Category       250000 non-null  object \n",
            " 3   Product Price          250000 non-null  int64  \n",
            " 4   Quantity               250000 non-null  int64  \n",
            " 5   Total Purchase Amount  250000 non-null  int64  \n",
            " 6   Payment Method         250000 non-null  object \n",
            " 7   Customer Age           250000 non-null  int64  \n",
            " 8   Returns                202404 non-null  float64\n",
            " 9   Customer Name          250000 non-null  object \n",
            " 10  Age                    250000 non-null  int64  \n",
            " 11  Gender                 250000 non-null  object \n",
            " 12  Churn                  250000 non-null  int64  \n",
            "dtypes: float64(1), int64(7), object(5)\n",
            "memory usage: 24.8+ MB\n",
            "None\n",
            "\n",
            "Missing Values:\n",
            " Customer ID                  0\n",
            "Purchase Date                0\n",
            "Product Category             0\n",
            "Product Price                0\n",
            "Quantity                     0\n",
            "Total Purchase Amount        0\n",
            "Payment Method               0\n",
            "Customer Age                 0\n",
            "Returns                  47596\n",
            "Customer Name                0\n",
            "Age                          0\n",
            "Gender                       0\n",
            "Churn                        0\n",
            "dtype: int64\n"
          ]
        }
      ],
      "source": [
        "print(df.head())\n",
        "print(\"Dataset Shape:\", df.shape)\n",
        "print(df.describe())\n",
        "print(\"\\nDataset Info:\\n\")\n",
        "print(df.info())\n",
        "print(\"\\nMissing Values:\\n\", df.isnull().sum())"
      ]
    },
    {
      "cell_type": "markdown",
      "metadata": {
        "id": "DkXW_q_LeuFU"
      },
      "source": [
        "# **EDA**"
      ]
    },
    {
      "cell_type": "markdown",
      "metadata": {
        "id": "ZBw1FWl3kBER"
      },
      "source": [
        "     -Churn Distribution"
      ]
    },
    {
      "cell_type": "code",
      "execution_count": null,
      "metadata": {
        "colab": {
          "base_uri": "https://localhost:8080/"
        },
        "id": "fSitOJurgHqK",
        "outputId": "146cc853-2099-45b2-b84c-87d7ab2ead98"
      },
      "outputs": [
        {
          "output_type": "display_data",
          "data": {
            "text/plain": [
              "<Figure size 600x400 with 1 Axes>"
            ],
            "image/png": "[encoded data removed]"
          },
          "metadata": {}
        }
      ],
      "source": [
        "plt.figure(figsize=(6, 4))\n",
        "sns.countplot(x='Churn', data=df)\n",
        "plt.title('Churn Distribution')\n",
        "plt.show()"
      ]
    },
    {
      "cell_type": "markdown",
      "metadata": {
        "id": "KVEDlvZCY4m6"
      },
      "source": [
        "  -Numerical Feature Distributions"
      ]
    },
    {
      "cell_type": "code",
      "execution_count": null,
      "metadata": {
        "colab": {
          "base_uri": "https://localhost:8080/"
        },
        "id": "YFGoIK3OkJD2",
        "outputId": "d0220327-a040-4a6e-d805-1dc8f769197d"
      },
      "outputs": [
        {
          "output_type": "display_data",
          "data": {
            "text/plain": [
              "<Figure size 1400x1000 with 9 Axes>"
            ],
            "image/png": "[encoded data removed]"
          },
          "metadata": {}
        }
      ],
      "source": [
        "numerical_columns = df.select_dtypes(include=['int64', 'float64']).columns\n",
        "df[numerical_columns].hist(bins=20, figsize=(14, 10))\n",
        "plt.suptitle(\"Numerical Feature Distributions\")\n",
        "plt.show()"
      ]
    },
    {
      "cell_type": "markdown",
      "metadata": {
        "id": "u5h_rfGSdnsB"
      },
      "source": [
        "   -categorical Feature Distributions"
      ]
    },
    {
      "cell_type": "code",
      "execution_count": null,
      "metadata": {
        "colab": {
          "base_uri": "https://localhost:8080/"
        },
        "id": "60jItaXzjHot",
        "outputId": "808fd58a-18d2-4db7-e668-cea1d5db1934"
      },
      "outputs": [
        {
          "output_type": "stream",
          "name": "stdout",
          "text": [
            "Purchase Date: 249736 unique values\n",
            "Product Category: 4 unique values\n",
            "Payment Method: 4 unique values\n",
            "Customer Name: 39920 unique values\n",
            "Gender: 2 unique values\n"
          ]
        }
      ],
      "source": [
        "for col in df.select_dtypes(include=['object']).columns:\n",
        "    print(f\"{col}: {df[col].nunique()} unique values\")"
      ]
    },
    {
      "cell_type": "markdown",
      "metadata": {
        "id": "8lkOXeJenBQI"
      },
      "source": [
        "# **FEATURE ENGINEERING**"
      ]
    },
    {
      "cell_type": "code",
      "execution_count": null,
      "metadata": {
        "colab": {
          "base_uri": "https://localhost:8080/",
          "height": 434
        },
        "id": "wi7_XkHLm_H7",
        "outputId": "9a7cea4c-10e9-4797-ef12-d997f7d63572"
      },
      "outputs": [
        {
          "output_type": "execute_result",
          "data": {
            "text/plain": [
              "        Customer ID       Purchase Date Product Category  Product Price  \\\n",
              "151166            1 2023-07-19 19:09:20            Books            169   \n",
              "244416            2 2021-03-05 14:30:42            Books            144   \n",
              "244417            2 2021-09-19 16:55:21            Books             98   \n",
              "244418            2 2022-11-21 06:48:05      Electronics            178   \n",
              "231817            3 2020-09-27 22:26:24      Electronics            402   \n",
              "\n",
              "        Quantity  Total Purchase Amount Payment Method  Returns  Age  Gender  \\\n",
              "151166         5                   3491         PayPal      1.0   70    Male   \n",
              "244416         1                   4210         PayPal      1.0   27  Female   \n",
              "244417         4                    959         PayPal      NaN   27  Female   \n",
              "244418         3                   2819         PayPal      0.0   27  Female   \n",
              "231817         2                    445    Credit Card      0.0   23  Female   \n",
              "\n",
              "        Churn  total_spend  purchase_frequency  time_diff  \\\n",
              "151166      0         3491                   1        NaN   \n",
              "244416      0         7988                   3        NaN   \n",
              "244417      0         7988                   3      198.0   \n",
              "244418      0         7988                   3      427.0   \n",
              "231817      0        22587                   8        NaN   \n",
              "\n",
              "        days_since_last_purchase purchase_day  purchase_hour  purchase_month  \\\n",
              "151166                       NaN    Wednesday             19               7   \n",
              "244416                312.500000       Friday             14               3   \n",
              "244417                312.500000       Sunday             16               9   \n",
              "244418                312.500000       Monday              6              11   \n",
              "231817                141.285714       Sunday             22               9   \n",
              "\n",
              "        gender_encoded  \n",
              "151166               0  \n",
              "244416               1  \n",
              "244417               1  \n",
              "244418               1  \n",
              "231817               1  "
            ],
            "text/html": [
              "\n",
              "  <div id=\"df-b3d4790e-7055-4dee-b813-afb085c42a5d\" class=\"colab-df-container\">\n",
              "    <div>\n",
              "<style scoped>\n",
              "    .dataframe tbody tr th:only-of-type {\n",
              "        vertical-align: middle;\n",
              "    }\n",
              "\n",
              "    .dataframe tbody tr th {\n",
              "        vertical-align: top;\n",
              "    }\n",
              "\n",
              "    .dataframe thead th {\n",
              "        text-align: right;\n",
              "    }\n",
              "</style>\n",
              "<table border=\"1\" class=\"dataframe\">\n",
              "  <thead>\n",
              "    <tr style=\"text-align: right;\">\n",
              "      <th></th>\n",
              "      <th>Customer ID</th>\n",
              "      <th>Purchase Date</th>\n",
              "      <th>Product Category</th>\n",
              "      <th>Product Price</th>\n",
              "      <th>Quantity</th>\n",
              "      <th>Total Purchase Amount</th>\n",
              "      <th>Payment Method</th>\n",
              "      <th>Returns</th>\n",
              "      <th>Age</th>\n",
              "      <th>Gender</th>\n",
              "      <th>Churn</th>\n",
              "      <th>total_spend</th>\n",
              "      <th>purchase_frequency</th>\n",
              "      <th>time_diff</th>\n",
              "      <th>days_since_last_purchase</th>\n",
              "      <th>purchase_day</th>\n",
              "      <th>purchase_hour</th>\n",
              "      <th>purchase_month</th>\n",
              "      <th>gender_encoded</th>\n",
              "    </tr>\n",
              "  </thead>\n",
              "  <tbody>\n",
              "    <tr>\n",
              "      <th>151166</th>\n",
              "      <td>1</td>\n",
              "      <td>2023-07-19 19:09:20</td>\n",
              "      <td>Books</td>\n",
              "      <td>169</td>\n",
              "      <td>5</td>\n",
              "      <td>3491</td>\n",
              "      <td>PayPal</td>\n",
              "      <td>1.0</td>\n",
              "      <td>70</td>\n",
              "      <td>Male</td>\n",
              "      <td>0</td>\n",
              "      <td>3491</td>\n",
              "      <td>1</td>\n",
              "      <td>NaN</td>\n",
              "      <td>NaN</td>\n",
              "      <td>Wednesday</td>\n",
              "      <td>19</td>\n",
              "      <td>7</td>\n",
              "      <td>0</td>\n",
              "    </tr>\n",
              "    <tr>\n",
              "      <th>244416</th>\n",
              "      <td>2</td>\n",
              "      <td>2021-03-05 14:30:42</td>\n",
              "      <td>Books</td>\n",
              "      <td>144</td>\n",
              "      <td>1</td>\n",
              "      <td>4210</td>\n",
              "      <td>PayPal</td>\n",
              "      <td>1.0</td>\n",
              "      <td>27</td>\n",
              "      <td>Female</td>\n",
              "      <td>0</td>\n",
              "      <td>7988</td>\n",
              "      <td>3</td>\n",
              "      <td>NaN</td>\n",
              "      <td>312.500000</td>\n",
              "      <td>Friday</td>\n",
              "      <td>14</td>\n",
              "      <td>3</td>\n",
              "      <td>1</td>\n",
              "    </tr>\n",
              "    <tr>\n",
              "      <th>244417</th>\n",
              "      <td>2</td>\n",
              "      <td>2021-09-19 16:55:21</td>\n",
              "      <td>Books</td>\n",
              "      <td>98</td>\n",
              "      <td>4</td>\n",
              "      <td>959</td>\n",
              "      <td>PayPal</td>\n",
              "      <td>NaN</td>\n",
              "      <td>27</td>\n",
              "      <td>Female</td>\n",
              "      <td>0</td>\n",
              "      <td>7988</td>\n",
              "      <td>3</td>\n",
              "      <td>198.0</td>\n",
              "      <td>312.500000</td>\n",
              "      <td>Sunday</td>\n",
              "      <td>16</td>\n",
              "      <td>9</td>\n",
              "      <td>1</td>\n",
              "    </tr>\n",
              "    <tr>\n",
              "      <th>244418</th>\n",
              "      <td>2</td>\n",
              "      <td>2022-11-21 06:48:05</td>\n",
              "      <td>Electronics</td>\n",
              "      <td>178</td>\n",
              "      <td>3</td>\n",
              "      <td>2819</td>\n",
              "      <td>PayPal</td>\n",
              "      <td>0.0</td>\n",
              "      <td>27</td>\n",
              "      <td>Female</td>\n",
              "      <td>0</td>\n",
              "      <td>7988</td>\n",
              "      <td>3</td>\n",
              "      <td>427.0</td>\n",
              "      <td>312.500000</td>\n",
              "      <td>Monday</td>\n",
              "      <td>6</td>\n",
              "      <td>11</td>\n",
              "      <td>1</td>\n",
              "    </tr>\n",
              "    <tr>\n",
              "      <th>231817</th>\n",
              "      <td>3</td>\n",
              "      <td>2020-09-27 22:26:24</td>\n",
              "      <td>Electronics</td>\n",
              "      <td>402</td>\n",
              "      <td>2</td>\n",
              "      <td>445</td>\n",
              "      <td>Credit Card</td>\n",
              "      <td>0.0</td>\n",
              "      <td>23</td>\n",
              "      <td>Female</td>\n",
              "      <td>0</td>\n",
              "      <td>22587</td>\n",
              "      <td>8</td>\n",
              "      <td>NaN</td>\n",
              "      <td>141.285714</td>\n",
              "      <td>Sunday</td>\n",
              "      <td>22</td>\n",
              "      <td>9</td>\n",
              "      <td>1</td>\n",
              "    </tr>\n",
              "  </tbody>\n",
              "</table>\n",
              "</div>\n",
              "    <div class=\"colab-df-buttons\">\n",
              "\n",
              "  <div class=\"colab-df-container\">\n",
              "    <button class=\"colab-df-convert\" onclick=\"convertToInteractive('df-b3d4790e-7055-4dee-b813-afb085c42a5d')\"\n",
              "            title=\"Convert this dataframe to an interactive table.\"\n",
              "            style=\"display:none;\">\n",
              "\n",
              "  <svg xmlns=\"http://www.w3.org/2000/svg\" height=\"24px\" viewBox=\"0 -960 960 960\">\n",
              "    <path d=\"M120-120v-720h720v720H120Zm60-500h600v-160H180v160Zm220 220h160v-160H400v160Zm0 220h160v-160H400v160ZM180-400h160v-160H180v160Zm440 0h160v-160H620v160ZM180-180h160v-160H180v160Zm440 0h160v-160H620v160Z\"/>\n",
              "  </svg>\n",
              "    </button>\n",
              "\n",
              "  <style>\n",
              "    .colab-df-container {\n",
              "      display:flex;\n",
              "      gap: 12px;\n",
              "    }\n",
              "\n",
              "    .colab-df-convert {\n",
              "      background-color: #E8F0FE;\n",
              "      border: none;\n",
              "      border-radius: 50%;\n",
              "      cursor: pointer;\n",
              "      display: none;\n",
              "      fill: #1967D2;\n",
              "      height: 32px;\n",
              "      padding: 0 0 0 0;\n",
              "      width: 32px;\n",
              "    }\n",
              "\n",
              "    .colab-df-convert:hover {\n",
              "      background-color: #E2EBFA;\n",
              "      box-shadow: 0px 1px 2px rgba(60, 64, 67, 0.3), 0px 1px 3px 1px rgba(60, 64, 67, 0.15);\n",
              "      fill: #174EA6;\n",
              "    }\n",
              "\n",
              "    .colab-df-buttons div {\n",
              "      margin-bottom: 4px;\n",
              "    }\n",
              "\n",
              "    [theme=dark] .colab-df-convert {\n",
              "      background-color: #3B4455;\n",
              "      fill: #D2E3FC;\n",
              "    }\n",
              "\n",
              "    [theme=dark] .colab-df-convert:hover {\n",
              "      background-color: #434B5C;\n",
              "      box-shadow: 0px 1px 3px 1px rgba(0, 0, 0, 0.15);\n",
              "      filter: drop-shadow(0px 1px 2px rgba(0, 0, 0, 0.3));\n",
              "      fill: #FFFFFF;\n",
              "    }\n",
              "  </style>\n",
              "\n",
              "    <script>\n",
              "      const buttonEl =\n",
              "        document.querySelector('#df-b3d4790e-7055-4dee-b813-afb085c42a5d button.colab-df-convert');\n",
              "      buttonEl.style.display =\n",
              "        google.colab.kernel.accessAllowed ? 'block' : 'none';\n",
              "\n",
              "      async function convertToInteractive(key) {\n",
              "        const element = document.querySelector('#df-b3d4790e-7055-4dee-b813-afb085c42a5d');\n",
              "        const dataTable =\n",
              "          await google.colab.kernel.invokeFunction('convertToInteractive',\n",
              "                                                    [key], {});\n",
              "        if (!dataTable) return;\n",
              "\n",
              "        const docLinkHtml = 'Like what you see? Visit the ' +\n",
              "          '<a target=\"_blank\" href=https://colab.research.google.com/notebooks/data_table.ipynb>data table notebook</a>'\n",
              "          + ' to learn more about interactive tables.';\n",
              "        element.innerHTML = '';\n",
              "        dataTable['output_type'] = 'display_data';\n",
              "        await google.colab.output.renderOutput(dataTable, element);\n",
              "        const docLink = document.createElement('div');\n",
              "        docLink.innerHTML = docLinkHtml;\n",
              "        element.appendChild(docLink);\n",
              "      }\n",
              "    </script>\n",
              "  </div>\n",
              "\n",
              "\n",
              "<div id=\"df-e09f6735-731c-431c-9674-61a8149e7c9d\">\n",
              "  <button class=\"colab-df-quickchart\" onclick=\"quickchart('df-e09f6735-731c-431c-9674-61a8149e7c9d')\"\n",
              "            title=\"Suggest charts\"\n",
              "            style=\"display:none;\">\n",
              "\n",
              "<svg xmlns=\"http://www.w3.org/2000/svg\" height=\"24px\"viewBox=\"0 0 24 24\"\n",
              "     width=\"24px\">\n",
              "    <g>\n",
              "        <path d=\"M19 3H5c-1.1 0-2 .9-2 2v14c0 1.1.9 2 2 2h14c1.1 0 2-.9 2-2V5c0-1.1-.9-2-2-2zM9 17H7v-7h2v7zm4 0h-2V7h2v10zm4 0h-2v-4h2v4z\"/>\n",
              "    </g>\n",
              "</svg>\n",
              "  </button>\n",
              "\n",
              "<style>\n",
              "  .colab-df-quickchart {\n",
              "      --bg-color: #E8F0FE;\n",
              "      --fill-color: #1967D2;\n",
              "      --hover-bg-color: #E2EBFA;\n",
              "      --hover-fill-color: #174EA6;\n",
              "      --disabled-fill-color: #AAA;\n",
              "      --disabled-bg-color: #DDD;\n",
              "  }\n",
              "\n",
              "  [theme=dark] .colab-df-quickchart {\n",
              "      --bg-color: #3B4455;\n",
              "      --fill-color: #D2E3FC;\n",
              "      --hover-bg-color: #434B5C;\n",
              "      --hover-fill-color: #FFFFFF;\n",
              "      --disabled-bg-color: #3B4455;\n",
              "      --disabled-fill-color: #666;\n",
              "  }\n",
              "\n",
              "  .colab-df-quickchart {\n",
              "    background-color: var(--bg-color);\n",
              "    border: none;\n",
              "    border-radius: 50%;\n",
              "    cursor: pointer;\n",
              "    display: none;\n",
              "    fill: var(--fill-color);\n",
              "    height: 32px;\n",
              "    padding: 0;\n",
              "    width: 32px;\n",
              "  }\n",
              "\n",
              "  .colab-df-quickchart:hover {\n",
              "    background-color: var(--hover-bg-color);\n",
              "    box-shadow: 0 1px 2px rgba(60, 64, 67, 0.3), 0 1px 3px 1px rgba(60, 64, 67, 0.15);\n",
              "    fill: var(--button-hover-fill-color);\n",
              "  }\n",
              "\n",
              "  .colab-df-quickchart-complete:disabled,\n",
              "  .colab-df-quickchart-complete:disabled:hover {\n",
              "    background-color: var(--disabled-bg-color);\n",
              "    fill: var(--disabled-fill-color);\n",
              "    box-shadow: none;\n",
              "  }\n",
              "\n",
              "  .colab-df-spinner {\n",
              "    border: 2px solid var(--fill-color);\n",
              "    border-color: transparent;\n",
              "    border-bottom-color: var(--fill-color);\n",
              "    animation:\n",
              "      spin 1s steps(1) infinite;\n",
              "  }\n",
              "\n",
              "  @keyframes spin {\n",
              "    0% {\n",
              "      border-color: transparent;\n",
              "      border-bottom-color: var(--fill-color);\n",
              "      border-left-color: var(--fill-color);\n",
              "    }\n",
              "    20% {\n",
              "      border-color: transparent;\n",
              "      border-left-color: var(--fill-color);\n",
              "      border-top-color: var(--fill-color);\n",
              "    }\n",
              "    30% {\n",
              "      border-color: transparent;\n",
              "      border-left-color: var(--fill-color);\n",
              "      border-top-color: var(--fill-color);\n",
              "      border-right-color: var(--fill-color);\n",
              "    }\n",
              "    40% {\n",
              "      border-color: transparent;\n",
              "      border-right-color: var(--fill-color);\n",
              "      border-top-color: var(--fill-color);\n",
              "    }\n",
              "    60% {\n",
              "      border-color: transparent;\n",
              "      border-right-color: var(--fill-color);\n",
              "    }\n",
              "    80% {\n",
              "      border-color: transparent;\n",
              "      border-right-color: var(--fill-color);\n",
              "      border-bottom-color: var(--fill-color);\n",
              "    }\n",
              "    90% {\n",
              "      border-color: transparent;\n",
              "      border-bottom-color: var(--fill-color);\n",
              "    }\n",
              "  }\n",
              "</style>\n",
              "\n",
              "  <script>\n",
              "    async function quickchart(key) {\n",
              "      const quickchartButtonEl =\n",
              "        document.querySelector('#' + key + ' button');\n",
              "      quickchartButtonEl.disabled = true;  // To prevent multiple clicks.\n",
              "      quickchartButtonEl.classList.add('colab-df-spinner');\n",
              "      try {\n",
              "        const charts = await google.colab.kernel.invokeFunction(\n",
              "            'suggestCharts', [key], {});\n",
              "      } catch (error) {\n",
              "        console.error('Error during call to suggestCharts:', error);\n",
              "      }\n",
              "      quickchartButtonEl.classList.remove('colab-df-spinner');\n",
              "      quickchartButtonEl.classList.add('colab-df-quickchart-complete');\n",
              "    }\n",
              "    (() => {\n",
              "      let quickchartButtonEl =\n",
              "        document.querySelector('#df-e09f6735-731c-431c-9674-61a8149e7c9d button');\n",
              "      quickchartButtonEl.style.display =\n",
              "        google.colab.kernel.accessAllowed ? 'block' : 'none';\n",
              "    })();\n",
              "  </script>\n",
              "</div>\n",
              "\n",
              "    </div>\n",
              "  </div>\n"
            ],
            "application/vnd.google.colaboratory.intrinsic+json": {
              "type": "dataframe",
              "variable_name": "df"
            }
          },
          "metadata": {},
          "execution_count": 7
        }
      ],
      "source": [
        "# Feature Engineering\n",
        "\n",
        "# 1. Total Spend\n",
        "# Summing up all purchase amounts for each customer\n",
        "df['total_spend'] = df.groupby('Customer ID')['Total Purchase Amount'].transform('sum')\n",
        "\n",
        "# 2. Frequency of Purchase\n",
        "# Counting the number of purchases for each customer\n",
        "df['purchase_frequency'] = df.groupby('Customer ID')['Purchase Date'].transform('count')\n",
        "\n",
        "# 3. Time Since Last Purchase\n",
        "# Convert 'purchase_date' to datetime if not already in datetime format\n",
        "df['Purchase Date'] = pd.to_datetime(df['Purchase Date'])\n",
        "\n",
        "# Sort by 'Customer ID' and 'Purchase Date'\n",
        "df = df.sort_values(by=['Customer ID', 'Purchase Date'])\n",
        "\n",
        "# Calculate the time difference between consecutive purchases\n",
        "df['time_diff'] = df.groupby('Customer ID')['Purchase Date'].diff().dt.days\n",
        "\n",
        "# Calculate the average time between purchases for each customer\n",
        "df['days_since_last_purchase'] = df.groupby('Customer ID')['time_diff'].transform('mean')\n",
        "\n",
        "# 4. Extract Time Features\n",
        "# Extract day of the week, hour, and month from 'Purchase Date'\n",
        "df['purchase_day'] = df['Purchase Date'].dt.day_name()  # Day of the week (e.g., Monday)\n",
        "df['purchase_hour'] = df['Purchase Date'].dt.hour       # Hour of the day (0-23)\n",
        "df['purchase_month'] = df['Purchase Date'].dt.month     # Month (1-12)\n",
        "\n",
        "# 5. Encode Gender\n",
        "# Map 'Gender' to numeric values (0 for Male, 1 for Female)\n",
        "df['gender_encoded'] = df['Gender'].map({'Male': 0, 'Female': 1})\n",
        "\n",
        "# 6. Drop Irrelevant Columns\n",
        "# Note: Not droping ID as it will used as an index for clustering or analysis later\n",
        "df = df.drop(columns=['Customer Name'])\n",
        "df = df.drop(columns=['Customer Age'])\n",
        "# Display the updated dataset\n",
        "df.head()\n"
      ]
    },
    {
      "cell_type": "code",
      "execution_count": null,
      "metadata": {
        "colab": {
          "base_uri": "https://localhost:8080/"
        },
        "id": "QcLSa9fLfmC1",
        "outputId": "3d5175f3-6798-4b6e-e0a5-d5a7c9df0e57"
      },
      "outputs": [
        {
          "output_type": "stream",
          "name": "stdout",
          "text": [
            "Dataset Shape: (250000, 19)\n",
            "        Customer ID                  Purchase Date  Product Price  \\\n",
            "count  250000.00000                         250000  250000.000000   \n",
            "mean    25004.03624  2021-11-06 23:31:24.372304128     254.659512   \n",
            "min         1.00000            2020-01-01 00:15:00      10.000000   \n",
            "25%     12497.75000  2020-12-02 19:33:23.249999872     132.000000   \n",
            "50%     25018.00000            2021-11-06 13:10:59     255.000000   \n",
            "75%     37506.00000  2022-10-11 03:42:32.750000128     377.000000   \n",
            "max     50000.00000            2023-09-15 12:24:08     500.000000   \n",
            "std     14428.27959                            NaN     141.568577   \n",
            "\n",
            "            Quantity  Total Purchase Amount        Returns            Age  \\\n",
            "count  250000.000000          250000.000000  202404.000000  250000.000000   \n",
            "mean        2.998896            2725.370732       0.497861      43.940528   \n",
            "min         1.000000             100.000000       0.000000      18.000000   \n",
            "25%         2.000000            1477.000000       0.000000      31.000000   \n",
            "50%         3.000000            2724.000000       0.000000      44.000000   \n",
            "75%         4.000000            3974.000000       1.000000      57.000000   \n",
            "max         5.000000            5350.000000       1.000000      70.000000   \n",
            "std         1.414694            1442.933565       0.499997      15.350246   \n",
            "\n",
            "               Churn    total_spend  purchase_frequency      time_diff  \\\n",
            "count  250000.000000  250000.000000       250000.000000  200327.000000   \n",
            "mean        0.199496   16352.378944            6.000192     205.643044   \n",
            "min         0.000000     110.000000            1.000000       0.000000   \n",
            "25%         0.000000   11254.000000            4.000000      61.000000   \n",
            "50%         0.000000   15682.000000            6.000000     148.000000   \n",
            "75%         0.000000   20784.000000            7.000000     292.000000   \n",
            "max         1.000000   55339.000000           17.000000    1333.000000   \n",
            "std         0.399622    7049.705496            2.233631     192.826087   \n",
            "\n",
            "       days_since_last_purchase  purchase_hour  purchase_month  gender_encoded  \n",
            "count             248315.000000  250000.000000   250000.000000   250000.000000  \n",
            "mean                 213.641570      11.486784        6.186388        0.502240  \n",
            "min                    0.000000       0.000000        1.000000        0.000000  \n",
            "25%                  144.571429       6.000000        3.000000        0.000000  \n",
            "50%                  185.714286      11.000000        6.000000        1.000000  \n",
            "75%                  248.600000      17.000000        9.000000        1.000000  \n",
            "max                 1333.000000      23.000000       12.000000        1.000000  \n",
            "std                  116.080763       6.915558        3.353738        0.499996  \n",
            "\n",
            "Dataset Info:\n",
            "\n",
            "<class 'pandas.core.frame.DataFrame'>\n",
            "Index: 250000 entries, 151166 to 229373\n",
            "Data columns (total 19 columns):\n",
            " #   Column                    Non-Null Count   Dtype         \n",
            "---  ------                    --------------   -----         \n",
            " 0   Customer ID               250000 non-null  int64         \n",
            " 1   Purchase Date             250000 non-null  datetime64[ns]\n",
            " 2   Product Category          250000 non-null  object        \n",
            " 3   Product Price             250000 non-null  int64         \n",
            " 4   Quantity                  250000 non-null  int64         \n",
            " 5   Total Purchase Amount     250000 non-null  int64         \n",
            " 6   Payment Method            250000 non-null  object        \n",
            " 7   Returns                   202404 non-null  float64       \n",
            " 8   Age                       250000 non-null  int64         \n",
            " 9   Gender                    250000 non-null  object        \n",
            " 10  Churn                     250000 non-null  int64         \n",
            " 11  total_spend               250000 non-null  int64         \n",
            " 12  purchase_frequency        250000 non-null  int64         \n",
            " 13  time_diff                 200327 non-null  float64       \n",
            " 14  days_since_last_purchase  248315 non-null  float64       \n",
            " 15  purchase_day              250000 non-null  object        \n",
            " 16  purchase_hour             250000 non-null  int32         \n",
            " 17  purchase_month            250000 non-null  int32         \n",
            " 18  gender_encoded            250000 non-null  int64         \n",
            "dtypes: datetime64[ns](1), float64(3), int32(2), int64(9), object(4)\n",
            "memory usage: 36.2+ MB\n",
            "None\n",
            "\n",
            "Missing Values:\n",
            " Customer ID                     0\n",
            "Purchase Date                   0\n",
            "Product Category                0\n",
            "Product Price                   0\n",
            "Quantity                        0\n",
            "Total Purchase Amount           0\n",
            "Payment Method                  0\n",
            "Returns                     47596\n",
            "Age                             0\n",
            "Gender                          0\n",
            "Churn                           0\n",
            "total_spend                     0\n",
            "purchase_frequency              0\n",
            "time_diff                   49673\n",
            "days_since_last_purchase     1685\n",
            "purchase_day                    0\n",
            "purchase_hour                   0\n",
            "purchase_month                  0\n",
            "gender_encoded                  0\n",
            "dtype: int64\n"
          ]
        }
      ],
      "source": [
        "print(\"Dataset Shape:\", df.shape)\n",
        "print(df.describe())\n",
        "print(\"\\nDataset Info:\\n\")\n",
        "print(df.info())\n",
        "print(\"\\nMissing Values:\\n\", df.isnull().sum())"
      ]
    },
    {
      "cell_type": "markdown",
      "metadata": {
        "id": "1pkyfd2_-38K"
      },
      "source": [
        "**Convert Object Data to Numerical**"
      ]
    },
    {
      "cell_type": "code",
      "execution_count": null,
      "metadata": {
        "id": "Uk4h-Z_c-3T0",
        "colab": {
          "base_uri": "https://localhost:8080/"
        },
        "outputId": "9e991148-14a5-4434-ebf4-42bfa6fef598"
      },
      "outputs": [
        {
          "output_type": "stream",
          "name": "stdout",
          "text": [
            "        Customer ID       Purchase Date  Product Price  Quantity  \\\n",
            "151166            1 2023-07-19 19:09:20            169         5   \n",
            "244416            2 2021-03-05 14:30:42            144         1   \n",
            "244417            2 2021-09-19 16:55:21             98         4   \n",
            "244418            2 2022-11-21 06:48:05            178         3   \n",
            "231817            3 2020-09-27 22:26:24            402         2   \n",
            "\n",
            "        Total Purchase Amount  Returns  Age  Churn  total_spend  \\\n",
            "151166                   3491      1.0   70      0         3491   \n",
            "244416                   4210      1.0   27      0         7988   \n",
            "244417                    959      NaN   27      0         7988   \n",
            "244418                   2819      0.0   27      0         7988   \n",
            "231817                    445      0.0   23      0        22587   \n",
            "\n",
            "        purchase_frequency  ...  purchase_hour  purchase_month gender_encoded  \\\n",
            "151166                   1  ...             19               7              0   \n",
            "244416                   3  ...             14               3              1   \n",
            "244417                   3  ...             16               9              1   \n",
            "244418                   3  ...              6              11              1   \n",
            "231817                   8  ...             22               9              1   \n",
            "\n",
            "        Gender_Male  Payment Method_Credit Card  Payment Method_Crypto  \\\n",
            "151166         True                       False                  False   \n",
            "244416        False                       False                  False   \n",
            "244417        False                       False                  False   \n",
            "244418        False                       False                  False   \n",
            "231817        False                        True                  False   \n",
            "\n",
            "        Payment Method_PayPal  Product Category_Clothing  \\\n",
            "151166                   True                      False   \n",
            "244416                   True                      False   \n",
            "244417                   True                      False   \n",
            "244418                   True                      False   \n",
            "231817                  False                      False   \n",
            "\n",
            "        Product Category_Electronics  Product Category_Home  \n",
            "151166                         False                  False  \n",
            "244416                         False                  False  \n",
            "244417                         False                  False  \n",
            "244418                          True                  False  \n",
            "231817                          True                  False  \n",
            "\n",
            "[5 rows x 23 columns]\n"
          ]
        }
      ],
      "source": [
        "import pandas as pd\n",
        "\n",
        "# Assuming `df` is your dataset\n",
        "categorical_columns = ['Gender', 'Payment Method', 'Product Category']\n",
        "\n",
        "# Apply one-hot encoding\n",
        "df = pd.get_dummies(df, columns=categorical_columns, drop_first=True)\n",
        "\n",
        "# Verify the changes\n",
        "print(df.head())\n"
      ]
    },
    {
      "cell_type": "markdown",
      "source": [],
      "metadata": {
        "id": "esFTBmk64Aux"
      }
    },
    {
      "cell_type": "code",
      "source": [
        "df.head()"
      ],
      "metadata": {
        "colab": {
          "base_uri": "https://localhost:8080/",
          "height": 463
        },
        "id": "5GV659e_ZYVU",
        "outputId": "8c1971b6-fe50-4e5d-8e13-b765a030f0bb"
      },
      "execution_count": null,
      "outputs": [
        {
          "output_type": "execute_result",
          "data": {
            "text/plain": [
              "        Customer ID       Purchase Date  Product Price  Quantity  \\\n",
              "151166            1 2023-07-19 19:09:20            169         5   \n",
              "244416            2 2021-03-05 14:30:42            144         1   \n",
              "244417            2 2021-09-19 16:55:21             98         4   \n",
              "244418            2 2022-11-21 06:48:05            178         3   \n",
              "231817            3 2020-09-27 22:26:24            402         2   \n",
              "\n",
              "        Total Purchase Amount  Returns  Age  Churn  total_spend  \\\n",
              "151166                   3491      1.0   70      0         3491   \n",
              "244416                   4210      1.0   27      0         7988   \n",
              "244417                    959      NaN   27      0         7988   \n",
              "244418                   2819      0.0   27      0         7988   \n",
              "231817                    445      0.0   23      0        22587   \n",
              "\n",
              "        purchase_frequency  ...  purchase_hour  purchase_month gender_encoded  \\\n",
              "151166                   1  ...             19               7              0   \n",
              "244416                   3  ...             14               3              1   \n",
              "244417                   3  ...             16               9              1   \n",
              "244418                   3  ...              6              11              1   \n",
              "231817                   8  ...             22               9              1   \n",
              "\n",
              "        Gender_Male  Payment Method_Credit Card  Payment Method_Crypto  \\\n",
              "151166         True                       False                  False   \n",
              "244416        False                       False                  False   \n",
              "244417        False                       False                  False   \n",
              "244418        False                       False                  False   \n",
              "231817        False                        True                  False   \n",
              "\n",
              "        Payment Method_PayPal  Product Category_Clothing  \\\n",
              "151166                   True                      False   \n",
              "244416                   True                      False   \n",
              "244417                   True                      False   \n",
              "244418                   True                      False   \n",
              "231817                  False                      False   \n",
              "\n",
              "        Product Category_Electronics  Product Category_Home  \n",
              "151166                         False                  False  \n",
              "244416                         False                  False  \n",
              "244417                         False                  False  \n",
              "244418                          True                  False  \n",
              "231817                          True                  False  \n",
              "\n",
              "[5 rows x 23 columns]"
            ],
            "text/html": [
              "\n",
              "  <div id=\"df-a8a601fc-3ded-4aa0-abd4-4a24c2985ee9\" class=\"colab-df-container\">\n",
              "    <div>\n",
              "<style scoped>\n",
              "    .dataframe tbody tr th:only-of-type {\n",
              "        vertical-align: middle;\n",
              "    }\n",
              "\n",
              "    .dataframe tbody tr th {\n",
              "        vertical-align: top;\n",
              "    }\n",
              "\n",
              "    .dataframe thead th {\n",
              "        text-align: right;\n",
              "    }\n",
              "</style>\n",
              "<table border=\"1\" class=\"dataframe\">\n",
              "  <thead>\n",
              "    <tr style=\"text-align: right;\">\n",
              "      <th></th>\n",
              "      <th>Customer ID</th>\n",
              "      <th>Purchase Date</th>\n",
              "      <th>Product Price</th>\n",
              "      <th>Quantity</th>\n",
              "      <th>Total Purchase Amount</th>\n",
              "      <th>Returns</th>\n",
              "      <th>Age</th>\n",
              "      <th>Churn</th>\n",
              "      <th>total_spend</th>\n",
              "      <th>purchase_frequency</th>\n",
              "      <th>...</th>\n",
              "      <th>purchase_hour</th>\n",
              "      <th>purchase_month</th>\n",
              "      <th>gender_encoded</th>\n",
              "      <th>Gender_Male</th>\n",
              "      <th>Payment Method_Credit Card</th>\n",
              "      <th>Payment Method_Crypto</th>\n",
              "      <th>Payment Method_PayPal</th>\n",
              "      <th>Product Category_Clothing</th>\n",
              "      <th>Product Category_Electronics</th>\n",
              "      <th>Product Category_Home</th>\n",
              "    </tr>\n",
              "  </thead>\n",
              "  <tbody>\n",
              "    <tr>\n",
              "      <th>151166</th>\n",
              "      <td>1</td>\n",
              "      <td>2023-07-19 19:09:20</td>\n",
              "      <td>169</td>\n",
              "      <td>5</td>\n",
              "      <td>3491</td>\n",
              "      <td>1.0</td>\n",
              "      <td>70</td>\n",
              "      <td>0</td>\n",
              "      <td>3491</td>\n",
              "      <td>1</td>\n",
              "      <td>...</td>\n",
              "      <td>19</td>\n",
              "      <td>7</td>\n",
              "      <td>0</td>\n",
              "      <td>True</td>\n",
              "      <td>False</td>\n",
              "      <td>False</td>\n",
              "      <td>True</td>\n",
              "      <td>False</td>\n",
              "      <td>False</td>\n",
              "      <td>False</td>\n",
              "    </tr>\n",
              "    <tr>\n",
              "      <th>244416</th>\n",
              "      <td>2</td>\n",
              "      <td>2021-03-05 14:30:42</td>\n",
              "      <td>144</td>\n",
              "      <td>1</td>\n",
              "      <td>4210</td>\n",
              "      <td>1.0</td>\n",
              "      <td>27</td>\n",
              "      <td>0</td>\n",
              "      <td>7988</td>\n",
              "      <td>3</td>\n",
              "      <td>...</td>\n",
              "      <td>14</td>\n",
              "      <td>3</td>\n",
              "      <td>1</td>\n",
              "      <td>False</td>\n",
              "      <td>False</td>\n",
              "      <td>False</td>\n",
              "      <td>True</td>\n",
              "      <td>False</td>\n",
              "      <td>False</td>\n",
              "      <td>False</td>\n",
              "    </tr>\n",
              "    <tr>\n",
              "      <th>244417</th>\n",
              "      <td>2</td>\n",
              "      <td>2021-09-19 16:55:21</td>\n",
              "      <td>98</td>\n",
              "      <td>4</td>\n",
              "      <td>959</td>\n",
              "      <td>NaN</td>\n",
              "      <td>27</td>\n",
              "      <td>0</td>\n",
              "      <td>7988</td>\n",
              "      <td>3</td>\n",
              "      <td>...</td>\n",
              "      <td>16</td>\n",
              "      <td>9</td>\n",
              "      <td>1</td>\n",
              "      <td>False</td>\n",
              "      <td>False</td>\n",
              "      <td>False</td>\n",
              "      <td>True</td>\n",
              "      <td>False</td>\n",
              "      <td>False</td>\n",
              "      <td>False</td>\n",
              "    </tr>\n",
              "    <tr>\n",
              "      <th>244418</th>\n",
              "      <td>2</td>\n",
              "      <td>2022-11-21 06:48:05</td>\n",
              "      <td>178</td>\n",
              "      <td>3</td>\n",
              "      <td>2819</td>\n",
              "      <td>0.0</td>\n",
              "      <td>27</td>\n",
              "      <td>0</td>\n",
              "      <td>7988</td>\n",
              "      <td>3</td>\n",
              "      <td>...</td>\n",
              "      <td>6</td>\n",
              "      <td>11</td>\n",
              "      <td>1</td>\n",
              "      <td>False</td>\n",
              "      <td>False</td>\n",
              "      <td>False</td>\n",
              "      <td>True</td>\n",
              "      <td>False</td>\n",
              "      <td>True</td>\n",
              "      <td>False</td>\n",
              "    </tr>\n",
              "    <tr>\n",
              "      <th>231817</th>\n",
              "      <td>3</td>\n",
              "      <td>2020-09-27 22:26:24</td>\n",
              "      <td>402</td>\n",
              "      <td>2</td>\n",
              "      <td>445</td>\n",
              "      <td>0.0</td>\n",
              "      <td>23</td>\n",
              "      <td>0</td>\n",
              "      <td>22587</td>\n",
              "      <td>8</td>\n",
              "      <td>...</td>\n",
              "      <td>22</td>\n",
              "      <td>9</td>\n",
              "      <td>1</td>\n",
              "      <td>False</td>\n",
              "      <td>True</td>\n",
              "      <td>False</td>\n",
              "      <td>False</td>\n",
              "      <td>False</td>\n",
              "      <td>True</td>\n",
              "      <td>False</td>\n",
              "    </tr>\n",
              "  </tbody>\n",
              "</table>\n",
              "<p>5 rows × 23 columns</p>\n",
              "</div>\n",
              "    <div class=\"colab-df-buttons\">\n",
              "\n",
              "  <div class=\"colab-df-container\">\n",
              "    <button class=\"colab-df-convert\" onclick=\"convertToInteractive('df-a8a601fc-3ded-4aa0-abd4-4a24c2985ee9')\"\n",
              "            title=\"Convert this dataframe to an interactive table.\"\n",
              "            style=\"display:none;\">\n",
              "\n",
              "  <svg xmlns=\"http://www.w3.org/2000/svg\" height=\"24px\" viewBox=\"0 -960 960 960\">\n",
              "    <path d=\"M120-120v-720h720v720H120Zm60-500h600v-160H180v160Zm220 220h160v-160H400v160Zm0 220h160v-160H400v160ZM180-400h160v-160H180v160Zm440 0h160v-160H620v160ZM180-180h160v-160H180v160Zm440 0h160v-160H620v160Z\"/>\n",
              "  </svg>\n",
              "    </button>\n",
              "\n",
              "  <style>\n",
              "    .colab-df-container {\n",
              "      display:flex;\n",
              "      gap: 12px;\n",
              "    }\n",
              "\n",
              "    .colab-df-convert {\n",
              "      background-color: #E8F0FE;\n",
              "      border: none;\n",
              "      border-radius: 50%;\n",
              "      cursor: pointer;\n",
              "      display: none;\n",
              "      fill: #1967D2;\n",
              "      height: 32px;\n",
              "      padding: 0 0 0 0;\n",
              "      width: 32px;\n",
              "    }\n",
              "\n",
              "    .colab-df-convert:hover {\n",
              "      background-color: #E2EBFA;\n",
              "      box-shadow: 0px 1px 2px rgba(60, 64, 67, 0.3), 0px 1px 3px 1px rgba(60, 64, 67, 0.15);\n",
              "      fill: #174EA6;\n",
              "    }\n",
              "\n",
              "    .colab-df-buttons div {\n",
              "      margin-bottom: 4px;\n",
              "    }\n",
              "\n",
              "    [theme=dark] .colab-df-convert {\n",
              "      background-color: #3B4455;\n",
              "      fill: #D2E3FC;\n",
              "    }\n",
              "\n",
              "    [theme=dark] .colab-df-convert:hover {\n",
              "      background-color: #434B5C;\n",
              "      box-shadow: 0px 1px 3px 1px rgba(0, 0, 0, 0.15);\n",
              "      filter: drop-shadow(0px 1px 2px rgba(0, 0, 0, 0.3));\n",
              "      fill: #FFFFFF;\n",
              "    }\n",
              "  </style>\n",
              "\n",
              "    <script>\n",
              "      const buttonEl =\n",
              "        document.querySelector('#df-a8a601fc-3ded-4aa0-abd4-4a24c2985ee9 button.colab-df-convert');\n",
              "      buttonEl.style.display =\n",
              "        google.colab.kernel.accessAllowed ? 'block' : 'none';\n",
              "\n",
              "      async function convertToInteractive(key) {\n",
              "        const element = document.querySelector('#df-a8a601fc-3ded-4aa0-abd4-4a24c2985ee9');\n",
              "        const dataTable =\n",
              "          await google.colab.kernel.invokeFunction('convertToInteractive',\n",
              "                                                    [key], {});\n",
              "        if (!dataTable) return;\n",
              "\n",
              "        const docLinkHtml = 'Like what you see? Visit the ' +\n",
              "          '<a target=\"_blank\" href=https://colab.research.google.com/notebooks/data_table.ipynb>data table notebook</a>'\n",
              "          + ' to learn more about interactive tables.';\n",
              "        element.innerHTML = '';\n",
              "        dataTable['output_type'] = 'display_data';\n",
              "        await google.colab.output.renderOutput(dataTable, element);\n",
              "        const docLink = document.createElement('div');\n",
              "        docLink.innerHTML = docLinkHtml;\n",
              "        element.appendChild(docLink);\n",
              "      }\n",
              "    </script>\n",
              "  </div>\n",
              "\n",
              "\n",
              "<div id=\"df-c77d5f85-1c2d-4b9b-8716-fd4981eb0ffb\">\n",
              "  <button class=\"colab-df-quickchart\" onclick=\"quickchart('df-c77d5f85-1c2d-4b9b-8716-fd4981eb0ffb')\"\n",
              "            title=\"Suggest charts\"\n",
              "            style=\"display:none;\">\n",
              "\n",
              "<svg xmlns=\"http://www.w3.org/2000/svg\" height=\"24px\"viewBox=\"0 0 24 24\"\n",
              "     width=\"24px\">\n",
              "    <g>\n",
              "        <path d=\"M19 3H5c-1.1 0-2 .9-2 2v14c0 1.1.9 2 2 2h14c1.1 0 2-.9 2-2V5c0-1.1-.9-2-2-2zM9 17H7v-7h2v7zm4 0h-2V7h2v10zm4 0h-2v-4h2v4z\"/>\n",
              "    </g>\n",
              "</svg>\n",
              "  </button>\n",
              "\n",
              "<style>\n",
              "  .colab-df-quickchart {\n",
              "      --bg-color: #E8F0FE;\n",
              "      --fill-color: #1967D2;\n",
              "      --hover-bg-color: #E2EBFA;\n",
              "      --hover-fill-color: #174EA6;\n",
              "      --disabled-fill-color: #AAA;\n",
              "      --disabled-bg-color: #DDD;\n",
              "  }\n",
              "\n",
              "  [theme=dark] .colab-df-quickchart {\n",
              "      --bg-color: #3B4455;\n",
              "      --fill-color: #D2E3FC;\n",
              "      --hover-bg-color: #434B5C;\n",
              "      --hover-fill-color: #FFFFFF;\n",
              "      --disabled-bg-color: #3B4455;\n",
              "      --disabled-fill-color: #666;\n",
              "  }\n",
              "\n",
              "  .colab-df-quickchart {\n",
              "    background-color: var(--bg-color);\n",
              "    border: none;\n",
              "    border-radius: 50%;\n",
              "    cursor: pointer;\n",
              "    display: none;\n",
              "    fill: var(--fill-color);\n",
              "    height: 32px;\n",
              "    padding: 0;\n",
              "    width: 32px;\n",
              "  }\n",
              "\n",
              "  .colab-df-quickchart:hover {\n",
              "    background-color: var(--hover-bg-color);\n",
              "    box-shadow: 0 1px 2px rgba(60, 64, 67, 0.3), 0 1px 3px 1px rgba(60, 64, 67, 0.15);\n",
              "    fill: var(--button-hover-fill-color);\n",
              "  }\n",
              "\n",
              "  .colab-df-quickchart-complete:disabled,\n",
              "  .colab-df-quickchart-complete:disabled:hover {\n",
              "    background-color: var(--disabled-bg-color);\n",
              "    fill: var(--disabled-fill-color);\n",
              "    box-shadow: none;\n",
              "  }\n",
              "\n",
              "  .colab-df-spinner {\n",
              "    border: 2px solid var(--fill-color);\n",
              "    border-color: transparent;\n",
              "    border-bottom-color: var(--fill-color);\n",
              "    animation:\n",
              "      spin 1s steps(1) infinite;\n",
              "  }\n",
              "\n",
              "  @keyframes spin {\n",
              "    0% {\n",
              "      border-color: transparent;\n",
              "      border-bottom-color: var(--fill-color);\n",
              "      border-left-color: var(--fill-color);\n",
              "    }\n",
              "    20% {\n",
              "      border-color: transparent;\n",
              "      border-left-color: var(--fill-color);\n",
              "      border-top-color: var(--fill-color);\n",
              "    }\n",
              "    30% {\n",
              "      border-color: transparent;\n",
              "      border-left-color: var(--fill-color);\n",
              "      border-top-color: var(--fill-color);\n",
              "      border-right-color: var(--fill-color);\n",
              "    }\n",
              "    40% {\n",
              "      border-color: transparent;\n",
              "      border-right-color: var(--fill-color);\n",
              "      border-top-color: var(--fill-color);\n",
              "    }\n",
              "    60% {\n",
              "      border-color: transparent;\n",
              "      border-right-color: var(--fill-color);\n",
              "    }\n",
              "    80% {\n",
              "      border-color: transparent;\n",
              "      border-right-color: var(--fill-color);\n",
              "      border-bottom-color: var(--fill-color);\n",
              "    }\n",
              "    90% {\n",
              "      border-color: transparent;\n",
              "      border-bottom-color: var(--fill-color);\n",
              "    }\n",
              "  }\n",
              "</style>\n",
              "\n",
              "  <script>\n",
              "    async function quickchart(key) {\n",
              "      const quickchartButtonEl =\n",
              "        document.querySelector('#' + key + ' button');\n",
              "      quickchartButtonEl.disabled = true;  // To prevent multiple clicks.\n",
              "      quickchartButtonEl.classList.add('colab-df-spinner');\n",
              "      try {\n",
              "        const charts = await google.colab.kernel.invokeFunction(\n",
              "            'suggestCharts', [key], {});\n",
              "      } catch (error) {\n",
              "        console.error('Error during call to suggestCharts:', error);\n",
              "      }\n",
              "      quickchartButtonEl.classList.remove('colab-df-spinner');\n",
              "      quickchartButtonEl.classList.add('colab-df-quickchart-complete');\n",
              "    }\n",
              "    (() => {\n",
              "      let quickchartButtonEl =\n",
              "        document.querySelector('#df-c77d5f85-1c2d-4b9b-8716-fd4981eb0ffb button');\n",
              "      quickchartButtonEl.style.display =\n",
              "        google.colab.kernel.accessAllowed ? 'block' : 'none';\n",
              "    })();\n",
              "  </script>\n",
              "</div>\n",
              "\n",
              "    </div>\n",
              "  </div>\n"
            ],
            "application/vnd.google.colaboratory.intrinsic+json": {
              "type": "dataframe",
              "variable_name": "df"
            }
          },
          "metadata": {},
          "execution_count": 10
        }
      ]
    },
    {
      "cell_type": "markdown",
      "metadata": {
        "id": "hK0zsppHGTJO"
      },
      "source": [
        "**Handle Missing Values**"
      ]
    },
    {
      "cell_type": "code",
      "execution_count": null,
      "metadata": {
        "id": "tkTNwy1m8FLc"
      },
      "outputs": [],
      "source": [
        "# Handle missing values in 'Returns'\n",
        "df['Returns'] = df['Returns'].fillna(0)\n",
        "\n",
        "# Handle missing values in 'time_diff'\n",
        "df['time_diff'] = df['time_diff'].fillna(-1)\n",
        "\n",
        "# Handle missing values in 'days_since_last_purchase'\n",
        "max_days = df['days_since_last_purchase'].max()  # Use max value as replacement\n",
        "df['days_since_last_purchase'] = df['days_since_last_purchase'].fillna(max_days)\n"
      ]
    },
    {
      "cell_type": "code",
      "execution_count": null,
      "metadata": {
        "colab": {
          "base_uri": "https://localhost:8080/"
        },
        "id": "Ht2jRn7kGfKS",
        "outputId": "f9133dfc-577d-490a-ca71-afed10599fbe"
      },
      "outputs": [
        {
          "output_type": "stream",
          "name": "stdout",
          "text": [
            "Numerical columns to consider for scaling: Index(['Customer ID', 'Product Price', 'Quantity', 'Total Purchase Amount',\n",
            "       'Returns', 'Age', 'Churn', 'total_spend', 'purchase_frequency',\n",
            "       'time_diff', 'days_since_last_purchase', 'gender_encoded'],\n",
            "      dtype='object')\n"
          ]
        }
      ],
      "source": [
        "# Select numerical columns including uint8 (which is used for one-hot encoded columns)\n",
        "numerical_columns = df.select_dtypes(include=['int64', 'float64', 'uint8']).columns\n",
        "\n",
        "# Inspect these columns to decide if they need scaling\n",
        "print(\"Numerical columns to consider for scaling:\", numerical_columns)\n"
      ]
    },
    {
      "cell_type": "markdown",
      "metadata": {
        "id": "w6ZJtSoNPeQ4"
      },
      "source": [
        "**Return Rate**"
      ]
    },
    {
      "cell_type": "code",
      "execution_count": null,
      "metadata": {
        "colab": {
          "base_uri": "https://localhost:8080/"
        },
        "id": "_EaqTHJxOPNN",
        "outputId": "2aa0e24e-57e5-4c62-abb0-b765e41b64ae"
      },
      "outputs": [
        {
          "output_type": "stream",
          "name": "stdout",
          "text": [
            "   Customer ID  Returns  return_rate\n",
            "0            1      1.0     1.000000\n",
            "1            2      1.0     0.333333\n",
            "2            2      0.0     0.333333\n",
            "3            2      0.0     0.333333\n",
            "4            3      0.0     0.375000\n"
          ]
        },
        {
          "output_type": "stream",
          "name": "stderr",
          "text": [
            "<ipython-input-13-c19bc602c878>:15: FutureWarning: A value is trying to be set on a copy of a DataFrame or Series through chained assignment using an inplace method.\n",
            "The behavior will change in pandas 3.0. This inplace method will never work because the intermediate object on which we are setting values always behaves as a copy.\n",
            "\n",
            "For example, when doing 'df[col].method(value, inplace=True)', try using 'df.method({col: value}, inplace=True)' or df[col] = df[col].method(value) instead, to perform the operation inplace on the original object.\n",
            "\n",
            "\n",
            "  df['return_rate'].fillna(0, inplace=True)\n"
          ]
        }
      ],
      "source": [
        "\n",
        "if 'Customer ID' in df.columns and 'Returns' in df.columns:\n",
        "    # Calculate total returns for each customer\n",
        "    total_returns = df.groupby('Customer ID')['Returns'].sum()\n",
        "\n",
        "    # Calculate total purchases for each customer\n",
        "    total_purchases = df.groupby('Customer ID')['Customer ID'].count()\n",
        "\n",
        "    # Calculate return rate\n",
        "    return_rate = total_returns / total_purchases\n",
        "\n",
        "    # Merge return rate back to the main DataFrame\n",
        "    df = df.merge(return_rate.rename('return_rate'), on='Customer ID', how='left')\n",
        "\n",
        "    # Replace NaN values with 0 (e.g., customers with no purchases or returns)\n",
        "    df['return_rate'].fillna(0, inplace=True)\n",
        "\n",
        "# Display first few rows to verify\n",
        "print(df[['Customer ID', 'Returns', 'return_rate']].head())\n"
      ]
    },
    {
      "cell_type": "markdown",
      "metadata": {
        "id": "4dZ_6oxQRPUm"
      },
      "source": [
        "# **Scaling**"
      ]
    },
    {
      "cell_type": "code",
      "execution_count": null,
      "metadata": {
        "colab": {
          "base_uri": "https://localhost:8080/"
        },
        "id": "t9MSgnagQOR3",
        "outputId": "88e2e8c3-4bca-43f7-e008-f73586de90e1"
      },
      "outputs": [
        {
          "output_type": "stream",
          "name": "stdout",
          "text": [
            "Scaled features using MinMaxScaler:\n",
            "   total_spend  purchase_frequency  time_diff  days_since_last_purchase  \\\n",
            "0     0.061218              0.0000   0.000000                  1.000000   \n",
            "1     0.142642              0.1250   0.000000                  0.234434   \n",
            "2     0.142642              0.1250   0.149175                  0.234434   \n",
            "3     0.142642              0.1250   0.320840                  0.234434   \n",
            "4     0.406978              0.4375   0.000000                  0.105991   \n",
            "\n",
            "        Age  return_rate  \n",
            "0  1.000000     1.000000  \n",
            "1  0.173077     0.333333  \n",
            "2  0.173077     0.333333  \n",
            "3  0.173077     0.333333  \n",
            "4  0.096154     0.375000  \n"
          ]
        }
      ],
      "source": [
        "from sklearn.preprocessing import MinMaxScaler\n",
        "\n",
        "# Select the features to scale\n",
        "features_to_scale = ['total_spend', 'purchase_frequency', 'time_diff',\n",
        "                     'days_since_last_purchase', 'Age', 'return_rate']\n",
        "\n",
        "# Initialize MinMaxScaler\n",
        "scaler = MinMaxScaler()\n",
        "\n",
        "# Apply MinMaxScaler to the selected features\n",
        "df[features_to_scale] = scaler.fit_transform(df[features_to_scale])\n",
        "\n",
        "print(\"Scaled features using MinMaxScaler:\")\n",
        "print(df[features_to_scale].head())\n"
      ]
    },
    {
      "cell_type": "markdown",
      "metadata": {
        "id": "1bESol-zVO5b"
      },
      "source": [
        "# **CLUSTERING**"
      ]
    },
    {
      "cell_type": "code",
      "execution_count": null,
      "metadata": {
        "id": "4k_Lf8q0SAO5"
      },
      "outputs": [],
      "source": [
        "\n",
        "# from sklearn.cluster import KMeans\n",
        "# from sklearn.metrics import silhouette_score\n",
        "# import matplotlib.pyplot as plt\n",
        "# import seaborn as sns\n"
      ]
    },
    {
      "cell_type": "code",
      "execution_count": null,
      "metadata": {
        "id": "6Tl8WCj0Tg7i"
      },
      "outputs": [],
      "source": [
        "# # Select relevant features for clustering\n",
        "# features_for_clustering = ['Age', 'purchase_frequency', 'total_spend',\n",
        "#                            'time_diff', 'return_rate','days_since_last_purchase']\n",
        "# X = df[features_for_clustering]\n"
      ]
    },
    {
      "cell_type": "code",
      "execution_count": null,
      "metadata": {
        "id": "GU0H8RZEWCUJ"
      },
      "outputs": [],
      "source": [
        "# # Use the Elbow Method to find the optimal number of clusters\n",
        "# inertia = []\n",
        "# k_range = range(1, 11)  # Test k from 1 to 10\n",
        "\n",
        "# for k in k_range:\n",
        "#     kmeans = KMeans(n_clusters=k, random_state=42)\n",
        "#     kmeans.fit(X)\n",
        "#     inertia.append(kmeans.inertia_)\n",
        "\n",
        "# # Plot the Elbow Curve\n",
        "# plt.figure(figsize=(8, 5))\n",
        "# plt.plot(k_range, inertia, marker='o')\n",
        "# plt.xlabel('Number of Clusters (k)')\n",
        "# plt.ylabel('Inertia')\n",
        "# plt.title('Elbow Method for Optimal k')\n",
        "# plt.show()\n"
      ]
    },
    {
      "cell_type": "code",
      "execution_count": null,
      "metadata": {
        "id": "KhlGA-OTWPQj"
      },
      "outputs": [],
      "source": [
        "# Compute silhouette scores for each k (from 2 to 10)\n",
        "#silhouette_scores = []\n",
        "\n",
        "#for k in range(2, 11):\n",
        "    #kmeans = KMeans(n_clusters=k, random_state=42)\n",
        "    #labels = kmeans.fit_predict(X)\n",
        "    #silhouette_scores.append(silhouette_score(X, labels))\n",
        "\n",
        "# Plot silhouette scores\n",
        "#plt.figure(figsize=(8, 5))\n",
        "#plt.plot(range(2, 11), silhouette_scores, marker='o')\n",
        "#plt.xlabel('Number of Clusters (k)')\n",
        "#plt.ylabel('Silhouette Score')\n",
        "#plt.title('Silhouette Scores for k')\n",
        "#plt.show()\n"
      ]
    },
    {
      "cell_type": "code",
      "execution_count": null,
      "metadata": {
        "id": "QPJp3e4vWdLu"
      },
      "outputs": [],
      "source": [
        "# from sklearn.cluster import KMeans\n",
        "\n",
        "# # Fit the KMeans model\n",
        "# kmeans = KMeans(n_clusters=5, random_state=42)\n",
        "# df['cluster'] = kmeans.fit_predict(df[features_for_clustering])\n",
        "\n",
        "# # Analyze cluster characteristics\n",
        "# cluster_summary = df.groupby('cluster').mean()\n",
        "# print(cluster_summary)\n",
        "\n",
        "# # Save the clustering output\n",
        "# df.to_csv('ecommerce_clustered_data.csv', index=False)\n"
      ]
    },
    {
      "cell_type": "code",
      "execution_count": null,
      "metadata": {
        "id": "anWXEOXalNur"
      },
      "outputs": [],
      "source": [
        "# from sklearn.decomposition import PCA\n",
        "# import matplotlib.pyplot as plt\n",
        "\n",
        "# # Perform PCA to reduce dimensions to 2\n",
        "# pca = PCA(n_components=2)\n",
        "# df_pca = pca.fit_transform(df[features_for_clustering])\n",
        "\n",
        "# # Assign the cluster labels\n",
        "# df_clustered = pd.DataFrame(df_pca, columns=['PCA1', 'PCA2'])\n",
        "# df_clustered['Cluster'] = kmeans.labels_\n",
        "\n",
        "# # Plot the clusters\n",
        "# plt.figure(figsize=(10, 6))\n",
        "# for cluster in range(5):  # Change 5 to the number of clusters\n",
        "#     cluster_data = df_clustered[df_clustered['Cluster'] == cluster]\n",
        "#     plt.scatter(cluster_data['PCA1'], cluster_data['PCA2'], label=f'Cluster {cluster}')\n",
        "\n",
        "# plt.title('Clusters Visualization in 2D Space')\n",
        "# plt.xlabel('PCA1')\n",
        "# plt.ylabel('PCA2')\n",
        "# plt.legend()\n",
        "# plt.show()\n"
      ]
    },
    {
      "cell_type": "code",
      "execution_count": null,
      "metadata": {
        "id": "PLNoEvXmnN3L"
      },
      "outputs": [],
      "source": [
        "# # Get the cluster centers\n",
        "# cluster_centers = scaler.inverse_transform(kmeans.cluster_centers_)  # Unscale the centers\n",
        "\n",
        "# # Create a DataFrame for the centers\n",
        "# # Use the correct columns (features used for clustering)\n",
        "# cluster_centers_df = pd.DataFrame(cluster_centers, columns=features_for_clustering)\n",
        "\n",
        "# print(\"Cluster Centers:\")\n",
        "# print(cluster_centers_df)"
      ]
    },
    {
      "cell_type": "code",
      "execution_count": null,
      "metadata": {
        "id": "L2kwL6Aqmn0A"
      },
      "outputs": [],
      "source": [
        "# # Bar chart for cluster distribution\n",
        "# cluster_counts = pd.Series(kmeans.labels_).value_counts()\n",
        "\n",
        "# plt.figure(figsize=(8, 5))\n",
        "# cluster_counts.sort_index().plot(kind='bar', color='skyblue')\n",
        "# plt.title('Number of Points in Each Cluster')\n",
        "# plt.xlabel('Cluster')\n",
        "# plt.ylabel('Count')\n",
        "# plt.xticks(range(len(cluster_counts)), [f'Cluster {i}' for i in range(len(cluster_counts))], rotation=0)\n",
        "# plt.show()\n"
      ]
    },
    {
      "cell_type": "code",
      "execution_count": null,
      "metadata": {
        "id": "OgMbFckRnfsu"
      },
      "outputs": [],
      "source": []
    },
    {
      "cell_type": "markdown",
      "metadata": {
        "id": "9hefQ1joxCgS"
      },
      "source": [
        "# **Model building**"
      ]
    },
    {
      "cell_type": "code",
      "execution_count": null,
      "metadata": {
        "id": "W2TeDpFMxMiL"
      },
      "outputs": [],
      "source": [
        "# from sklearn.cluster import KMeans\n",
        "\n",
        "# # Example of fitting KMeans to the data (use your feature set here)\n",
        "# kmeans = KMeans(n_clusters=5, random_state=42)\n",
        "# # Fit on the entire DataFrame's features\n",
        "# cluster_labels = kmeans.fit_predict(df[['Age', 'purchase_frequency', 'total_spend', 'time_diff', 'return_rate', 'days_since_last_purchase']])\n",
        "\n",
        "# # Check the cluster labels\n",
        "# print(cluster_labels[:10])  # Print first 10 labels to verify\n",
        "\n",
        "# # Assign the cluster labels to the DataFrame\n",
        "# df['cluster_label'] = cluster_labels\n",
        "\n",
        "# # Check if the 'cluster_label' column is added correctly\n",
        "# print(df.head())  # Check the first few rows of the DataFrame"
      ]
    },
    {
      "cell_type": "code",
      "execution_count": null,
      "metadata": {
        "collapsed": true,
        "id": "-ruzJMnHxQD0"
      },
      "outputs": [],
      "source": [
        "# # Assuming 'cluster_labels' is a numpy array or a pandas Series\n",
        "# df['cluster_label'] = cluster_labels\n",
        "\n",
        "# # Check if the 'cluster_label' column is added correctly\n",
        "# print(X.head())  # Check the first few rows of the DataFrame\n"
      ]
    },
    {
      "cell_type": "code",
      "execution_count": null,
      "metadata": {
        "id": "QKUxUM01yJgd"
      },
      "outputs": [],
      "source": [
        "# print(len(df))  # Length of the feature set\n",
        "# print(len(cluster_labels))  # Length of the cluster labels\n"
      ]
    },
    {
      "cell_type": "code",
      "execution_count": null,
      "metadata": {
        "id": "iI1ydXgFyWvS",
        "colab": {
          "base_uri": "https://localhost:8080/"
        },
        "outputId": "8e9e544c-7207-477c-9bc9-479dfdaba0f0"
      },
      "outputs": [
        {
          "output_type": "stream",
          "name": "stdout",
          "text": [
            "Features (X): Index(['Age', 'purchase_frequency', 'total_spend', 'time_diff', 'return_rate',\n",
            "       'days_since_last_purchase', 'Gender_Male', 'Payment Method_Credit Card',\n",
            "       'Payment Method_Crypto', 'Payment Method_PayPal',\n",
            "       'Product Category_Clothing', 'Product Category_Electronics',\n",
            "       'Product Category_Home'],\n",
            "      dtype='object')\n",
            "Target (y): Churn\n"
          ]
        }
      ],
      "source": [
        "# List of original columns (excluding the original categorical columns)\n",
        "selected_columns = ['Age', 'purchase_frequency', 'total_spend', 'time_diff', 'return_rate',\n",
        "                    'days_since_last_purchase', ]\n",
        "\n",
        "# Get the one-hot encoded columns created from 'Product Category' and 'Payment Method'\n",
        "encoded_columns = [col for col in df.columns if col.startswith('Payment Method') or col.startswith('Product Category') or col.startswith('Gender')]\n",
        "\n",
        "# Final feature set (combining selected columns and encoded columns)\n",
        "X = df[selected_columns + encoded_columns]\n",
        "\n",
        "# Define the target variable\n",
        "y = df['Churn']\n",
        "\n",
        "# Verify the selected features\n",
        "print(\"Features (X):\", X.columns)\n",
        "print(\"Target (y):\", y.name)\n"
      ]
    },
    {
      "cell_type": "code",
      "source": [
        "from sklearn.model_selection import train_test_split\n",
        "\n",
        "# Split the data into training and testing sets (80% train, 20% test)\n",
        "X_train, X_test, y_train, y_test = train_test_split(X, y, test_size=0.2, random_state=42)\n",
        "\n",
        "# Verify the shapes of the split data\n",
        "print(f\"Training set features: {X_train.shape}\")\n",
        "print(f\"Test set features: {X_test.shape}\")\n",
        "print(f\"Training set target: {y_train.shape}\")\n",
        "print(f\"Test set target: {y_test.shape}\")\n"
      ],
      "metadata": {
        "colab": {
          "base_uri": "https://localhost:8080/"
        },
        "id": "WUbsT78r-9kT",
        "outputId": "107854e5-4296-44be-a6fd-d14d5b611b5b"
      },
      "execution_count": null,
      "outputs": [
        {
          "output_type": "stream",
          "name": "stdout",
          "text": [
            "Training set features: (200000, 13)\n",
            "Test set features: (50000, 13)\n",
            "Training set target: (200000,)\n",
            "Test set target: (50000,)\n"
          ]
        }
      ]
    },
    {
      "cell_type": "code",
      "execution_count": null,
      "metadata": {
        "id": "YVantmhH3whl"
      },
      "outputs": [],
      "source": [
        "# from sklearn.model_selection import train_test_split\n",
        "\n",
        "# # Sample 30% of the training data with stratification\n",
        "# X_sample, _, y_sample, _ = train_test_split(\n",
        "#     X_train, y_train, test_size=0.7, stratify=y_train, random_state=42\n",
        "# )\n",
        "\n",
        "# # Check the sample size\n",
        "# print(f\"Sample size: {X_sample.shape[0]} rows\")\n"
      ]
    },
    {
      "cell_type": "code",
      "source": [
        "# param_grid = {\n",
        "#     'learning_rate': [0.01, 0.05, 0.1],\n",
        "#     'n_estimators': [50, 100, 200],\n",
        "#     'max_depth': [3, 5, 7],\n",
        "#     'subsample': [0.8, 1.0],\n",
        "#     'colsample_bytree': [0.8, 1.0],\n",
        "#     'gamma': [0, 0.1, 0.2]\n",
        "# }\n"
      ],
      "metadata": {
        "id": "V5msWlVRfVXB"
      },
      "execution_count": null,
      "outputs": []
    },
    {
      "cell_type": "code",
      "source": [
        "pip install scikit-learn==1.3.1\n"
      ],
      "metadata": {
        "id": "wdCMXWTamoWj",
        "colab": {
          "base_uri": "https://localhost:8080/"
        },
        "outputId": "11d8658f-bed9-4f73-c39f-14851a599009"
      },
      "execution_count": null,
      "outputs": [
        {
          "output_type": "stream",
          "name": "stdout",
          "text": [
            "Requirement already satisfied: scikit-learn==1.3.1 in /usr/local/lib/python3.11/dist-packages (1.3.1)\n",
            "Requirement already satisfied: numpy<2.0,>=1.17.3 in /usr/local/lib/python3.11/dist-packages (from scikit-learn==1.3.1) (1.26.4)\n",
            "Requirement already satisfied: scipy>=1.5.0 in /usr/local/lib/python3.11/dist-packages (from scikit-learn==1.3.1) (1.13.1)\n",
            "Requirement already satisfied: joblib>=1.1.1 in /usr/local/lib/python3.11/dist-packages (from scikit-learn==1.3.1) (1.4.2)\n",
            "Requirement already satisfied: threadpoolctl>=2.0.0 in /usr/local/lib/python3.11/dist-packages (from scikit-learn==1.3.1) (3.5.0)\n"
          ]
        }
      ]
    },
    {
      "cell_type": "code",
      "source": [
        "from xgboost import XGBClassifier\n",
        "from sklearn.model_selection import cross_val_score\n",
        "\n",
        "# Test different values of scale_pos_weight\n",
        "scale_pos_weights = [1, 2, 3, 4, 5, 6, 7]  # Adjust this range if needed\n",
        "for weight in scale_pos_weights:\n",
        "    print(f\"Testing scale_pos_weight={weight}...\")\n",
        "    xgb_model = XGBClassifier(\n",
        "        colsample_bytree=1.0,\n",
        "        gamma=0.1,\n",
        "        learning_rate=0.1,\n",
        "        max_depth=7,\n",
        "        n_estimators=200,\n",
        "        subsample=0.8,\n",
        "        scale_pos_weight=weight,\n",
        "        random_state=42\n",
        "    )\n",
        "\n",
        "    # Perform 3-fold cross-validation on the training data\n",
        "    scores = cross_val_score(xgb_model, X_train, y_train, cv=3, scoring='roc_auc', n_jobs=-1)\n",
        "    print(f\"Mean ROC-AUC for scale_pos_weight={weight}: {scores.mean():.4f}\\n\")\n"
      ],
      "metadata": {
        "colab": {
          "base_uri": "https://localhost:8080/",
          "height": 356
        },
        "id": "YrCXwlmnflFB",
        "outputId": "92f2ce97-77f9-4123-b719-f9a19916891f"
      },
      "execution_count": null,
      "outputs": [
        {
          "output_type": "stream",
          "name": "stdout",
          "text": [
            "Testing scale_pos_weight=1...\n"
          ]
        },
        {
          "output_type": "error",
          "ename": "KeyboardInterrupt",
          "evalue": "",
          "traceback": [
            "\u001b[0;31m---------------------------------------------------------------------------\u001b[0m",
            "\u001b[0;31mKeyboardInterrupt\u001b[0m                         Traceback (most recent call last)",
            "\u001b[0;32m<ipython-input-31-ff3fa75aa141>\u001b[0m in \u001b[0;36m<cell line: 0>\u001b[0;34m()\u001b[0m\n\u001b[1;32m     18\u001b[0m \u001b[0;34m\u001b[0m\u001b[0m\n\u001b[1;32m     19\u001b[0m     \u001b[0;31m# Perform 3-fold cross-validation on the training data\u001b[0m\u001b[0;34m\u001b[0m\u001b[0;34m\u001b[0m\u001b[0m\n\u001b[0;32m---> 20\u001b[0;31m     \u001b[0mscores\u001b[0m \u001b[0;34m=\u001b[0m \u001b[0mcross_val_score\u001b[0m\u001b[0;34m(\u001b[0m\u001b[0mxgb_model\u001b[0m\u001b[0;34m,\u001b[0m \u001b[0mX_train\u001b[0m\u001b[0;34m,\u001b[0m \u001b[0my_train\u001b[0m\u001b[0;34m,\u001b[0m \u001b[0mcv\u001b[0m\u001b[0;34m=\u001b[0m\u001b[0;36m3\u001b[0m\u001b[0;34m,\u001b[0m \u001b[0mscoring\u001b[0m\u001b[0;34m=\u001b[0m\u001b[0;34m'roc_auc'\u001b[0m\u001b[0;34m,\u001b[0m \u001b[0mn_jobs\u001b[0m\u001b[0;34m=\u001b[0m\u001b[0;34m-\u001b[0m\u001b[0;36m1\u001b[0m\u001b[0;34m)\u001b[0m\u001b[0;34m\u001b[0m\u001b[0;34m\u001b[0m\u001b[0m\n\u001b[0m\u001b[1;32m     21\u001b[0m     \u001b[0mprint\u001b[0m\u001b[0;34m(\u001b[0m\u001b[0;34mf\"Mean ROC-AUC for scale_pos_weight={weight}: {scores.mean():.4f}\\n\"\u001b[0m\u001b[0;34m)\u001b[0m\u001b[0;34m\u001b[0m\u001b[0;34m\u001b[0m\u001b[0m\n",
            "\u001b[0;32m/usr/local/lib/python3.11/dist-packages/sklearn/model_selection/_validation.py\u001b[0m in \u001b[0;36mcross_val_score\u001b[0;34m(estimator, X, y, groups, scoring, cv, n_jobs, verbose, fit_params, pre_dispatch, error_score)\u001b[0m\n\u001b[1;32m    560\u001b[0m     \u001b[0mscorer\u001b[0m \u001b[0;34m=\u001b[0m \u001b[0mcheck_scoring\u001b[0m\u001b[0;34m(\u001b[0m\u001b[0mestimator\u001b[0m\u001b[0;34m,\u001b[0m \u001b[0mscoring\u001b[0m\u001b[0;34m=\u001b[0m\u001b[0mscoring\u001b[0m\u001b[0;34m)\u001b[0m\u001b[0;34m\u001b[0m\u001b[0;34m\u001b[0m\u001b[0m\n\u001b[1;32m    561\u001b[0m \u001b[0;34m\u001b[0m\u001b[0m\n\u001b[0;32m--> 562\u001b[0;31m     cv_results = cross_validate(\n\u001b[0m\u001b[1;32m    563\u001b[0m         \u001b[0mestimator\u001b[0m\u001b[0;34m=\u001b[0m\u001b[0mestimator\u001b[0m\u001b[0;34m,\u001b[0m\u001b[0;34m\u001b[0m\u001b[0;34m\u001b[0m\u001b[0m\n\u001b[1;32m    564\u001b[0m         \u001b[0mX\u001b[0m\u001b[0;34m=\u001b[0m\u001b[0mX\u001b[0m\u001b[0;34m,\u001b[0m\u001b[0;34m\u001b[0m\u001b[0;34m\u001b[0m\u001b[0m\n",
            "\u001b[0;32m/usr/local/lib/python3.11/dist-packages/sklearn/utils/_param_validation.py\u001b[0m in \u001b[0;36mwrapper\u001b[0;34m(*args, **kwargs)\u001b[0m\n\u001b[1;32m    209\u001b[0m                     )\n\u001b[1;32m    210\u001b[0m                 ):\n\u001b[0;32m--> 211\u001b[0;31m                     \u001b[0;32mreturn\u001b[0m \u001b[0mfunc\u001b[0m\u001b[0;34m(\u001b[0m\u001b[0;34m*\u001b[0m\u001b[0margs\u001b[0m\u001b[0;34m,\u001b[0m \u001b[0;34m**\u001b[0m\u001b[0mkwargs\u001b[0m\u001b[0;34m)\u001b[0m\u001b[0;34m\u001b[0m\u001b[0;34m\u001b[0m\u001b[0m\n\u001b[0m\u001b[1;32m    212\u001b[0m             \u001b[0;32mexcept\u001b[0m \u001b[0mInvalidParameterError\u001b[0m \u001b[0;32mas\u001b[0m \u001b[0me\u001b[0m\u001b[0;34m:\u001b[0m\u001b[0;34m\u001b[0m\u001b[0;34m\u001b[0m\u001b[0m\n\u001b[1;32m    213\u001b[0m                 \u001b[0;31m# When the function is just a wrapper around an estimator, we allow\u001b[0m\u001b[0;34m\u001b[0m\u001b[0;34m\u001b[0m\u001b[0m\n",
            "\u001b[0;32m/usr/local/lib/python3.11/dist-packages/sklearn/model_selection/_validation.py\u001b[0m in \u001b[0;36mcross_validate\u001b[0;34m(estimator, X, y, groups, scoring, cv, n_jobs, verbose, fit_params, pre_dispatch, return_train_score, return_estimator, return_indices, error_score)\u001b[0m\n\u001b[1;32m    307\u001b[0m     \u001b[0;31m# independent, and that it is pickle-able.\u001b[0m\u001b[0;34m\u001b[0m\u001b[0;34m\u001b[0m\u001b[0m\n\u001b[1;32m    308\u001b[0m     \u001b[0mparallel\u001b[0m \u001b[0;34m=\u001b[0m \u001b[0mParallel\u001b[0m\u001b[0;34m(\u001b[0m\u001b[0mn_jobs\u001b[0m\u001b[0;34m=\u001b[0m\u001b[0mn_jobs\u001b[0m\u001b[0;34m,\u001b[0m \u001b[0mverbose\u001b[0m\u001b[0;34m=\u001b[0m\u001b[0mverbose\u001b[0m\u001b[0;34m,\u001b[0m \u001b[0mpre_dispatch\u001b[0m\u001b[0;34m=\u001b[0m\u001b[0mpre_dispatch\u001b[0m\u001b[0;34m)\u001b[0m\u001b[0;34m\u001b[0m\u001b[0;34m\u001b[0m\u001b[0m\n\u001b[0;32m--> 309\u001b[0;31m     results = parallel(\n\u001b[0m\u001b[1;32m    310\u001b[0m         delayed(_fit_and_score)(\n\u001b[1;32m    311\u001b[0m             \u001b[0mclone\u001b[0m\u001b[0;34m(\u001b[0m\u001b[0mestimator\u001b[0m\u001b[0;34m)\u001b[0m\u001b[0;34m,\u001b[0m\u001b[0;34m\u001b[0m\u001b[0;34m\u001b[0m\u001b[0m\n",
            "\u001b[0;32m/usr/local/lib/python3.11/dist-packages/sklearn/utils/parallel.py\u001b[0m in \u001b[0;36m__call__\u001b[0;34m(self, iterable)\u001b[0m\n\u001b[1;32m     63\u001b[0m             \u001b[0;32mfor\u001b[0m \u001b[0mdelayed_func\u001b[0m\u001b[0;34m,\u001b[0m \u001b[0margs\u001b[0m\u001b[0;34m,\u001b[0m \u001b[0mkwargs\u001b[0m \u001b[0;32min\u001b[0m \u001b[0miterable\u001b[0m\u001b[0;34m\u001b[0m\u001b[0;34m\u001b[0m\u001b[0m\n\u001b[1;32m     64\u001b[0m         )\n\u001b[0;32m---> 65\u001b[0;31m         \u001b[0;32mreturn\u001b[0m \u001b[0msuper\u001b[0m\u001b[0;34m(\u001b[0m\u001b[0;34m)\u001b[0m\u001b[0;34m.\u001b[0m\u001b[0m__call__\u001b[0m\u001b[0;34m(\u001b[0m\u001b[0miterable_with_config\u001b[0m\u001b[0;34m)\u001b[0m\u001b[0;34m\u001b[0m\u001b[0;34m\u001b[0m\u001b[0m\n\u001b[0m\u001b[1;32m     66\u001b[0m \u001b[0;34m\u001b[0m\u001b[0m\n\u001b[1;32m     67\u001b[0m \u001b[0;34m\u001b[0m\u001b[0m\n",
            "\u001b[0;32m/usr/local/lib/python3.11/dist-packages/joblib/parallel.py\u001b[0m in \u001b[0;36m__call__\u001b[0;34m(self, iterable)\u001b[0m\n\u001b[1;32m   2005\u001b[0m         \u001b[0mnext\u001b[0m\u001b[0;34m(\u001b[0m\u001b[0moutput\u001b[0m\u001b[0;34m)\u001b[0m\u001b[0;34m\u001b[0m\u001b[0;34m\u001b[0m\u001b[0m\n\u001b[1;32m   2006\u001b[0m \u001b[0;34m\u001b[0m\u001b[0m\n\u001b[0;32m-> 2007\u001b[0;31m         \u001b[0;32mreturn\u001b[0m \u001b[0moutput\u001b[0m \u001b[0;32mif\u001b[0m \u001b[0mself\u001b[0m\u001b[0;34m.\u001b[0m\u001b[0mreturn_generator\u001b[0m \u001b[0;32melse\u001b[0m \u001b[0mlist\u001b[0m\u001b[0;34m(\u001b[0m\u001b[0moutput\u001b[0m\u001b[0;34m)\u001b[0m\u001b[0;34m\u001b[0m\u001b[0;34m\u001b[0m\u001b[0m\n\u001b[0m\u001b[1;32m   2008\u001b[0m \u001b[0;34m\u001b[0m\u001b[0m\n\u001b[1;32m   2009\u001b[0m     \u001b[0;32mdef\u001b[0m \u001b[0m__repr__\u001b[0m\u001b[0;34m(\u001b[0m\u001b[0mself\u001b[0m\u001b[0;34m)\u001b[0m\u001b[0;34m:\u001b[0m\u001b[0;34m\u001b[0m\u001b[0;34m\u001b[0m\u001b[0m\n",
            "\u001b[0;32m/usr/local/lib/python3.11/dist-packages/joblib/parallel.py\u001b[0m in \u001b[0;36m_get_outputs\u001b[0;34m(self, iterator, pre_dispatch)\u001b[0m\n\u001b[1;32m   1648\u001b[0m \u001b[0;34m\u001b[0m\u001b[0m\n\u001b[1;32m   1649\u001b[0m             \u001b[0;32mwith\u001b[0m \u001b[0mself\u001b[0m\u001b[0;34m.\u001b[0m\u001b[0m_backend\u001b[0m\u001b[0;34m.\u001b[0m\u001b[0mretrieval_context\u001b[0m\u001b[0;34m(\u001b[0m\u001b[0;34m)\u001b[0m\u001b[0;34m:\u001b[0m\u001b[0;34m\u001b[0m\u001b[0;34m\u001b[0m\u001b[0m\n\u001b[0;32m-> 1650\u001b[0;31m                 \u001b[0;32myield\u001b[0m \u001b[0;32mfrom\u001b[0m \u001b[0mself\u001b[0m\u001b[0;34m.\u001b[0m\u001b[0m_retrieve\u001b[0m\u001b[0;34m(\u001b[0m\u001b[0;34m)\u001b[0m\u001b[0;34m\u001b[0m\u001b[0;34m\u001b[0m\u001b[0m\n\u001b[0m\u001b[1;32m   1651\u001b[0m \u001b[0;34m\u001b[0m\u001b[0m\n\u001b[1;32m   1652\u001b[0m         \u001b[0;32mexcept\u001b[0m \u001b[0mGeneratorExit\u001b[0m\u001b[0;34m:\u001b[0m\u001b[0;34m\u001b[0m\u001b[0;34m\u001b[0m\u001b[0m\n",
            "\u001b[0;32m/usr/local/lib/python3.11/dist-packages/joblib/parallel.py\u001b[0m in \u001b[0;36m_retrieve\u001b[0;34m(self)\u001b[0m\n\u001b[1;32m   1760\u001b[0m                 (self._jobs[0].get_status(\n\u001b[1;32m   1761\u001b[0m                     timeout=self.timeout) == TASK_PENDING)):\n\u001b[0;32m-> 1762\u001b[0;31m                 \u001b[0mtime\u001b[0m\u001b[0;34m.\u001b[0m\u001b[0msleep\u001b[0m\u001b[0;34m(\u001b[0m\u001b[0;36m0.01\u001b[0m\u001b[0;34m)\u001b[0m\u001b[0;34m\u001b[0m\u001b[0;34m\u001b[0m\u001b[0m\n\u001b[0m\u001b[1;32m   1763\u001b[0m                 \u001b[0;32mcontinue\u001b[0m\u001b[0;34m\u001b[0m\u001b[0;34m\u001b[0m\u001b[0m\n\u001b[1;32m   1764\u001b[0m \u001b[0;34m\u001b[0m\u001b[0m\n",
            "\u001b[0;31mKeyboardInterrupt\u001b[0m: "
          ]
        }
      ]
    },
    {
      "cell_type": "code",
      "source": [
        "import xgboost as xgb\n",
        "from sklearn.model_selection import GridSearchCV\n",
        "\n",
        "# Calculate scale_pos_weight\n",
        "negative_class_count = sum(y_train == 0)\n",
        "positive_class_count = sum(y_train == 1)\n",
        "scale_pos_weight = negative_class_count / positive_class_count\n",
        "\n",
        "\n",
        "# Initialize the XGBoost model\n",
        "xgb_model = xgb.XGBClassifier(\n",
        "    random_state=42,\n",
        "    use_label_encoder=False,  # Ensure label encoding issue is handled\n",
        "    scale_pos_weight=scale_pos_weight,  # Add the scale_pos_weight parameter here\n",
        "    eval_metric='mlogloss'  # To avoid warnings related to evaluation metrics\n",
        ")\n",
        "\n",
        "# Set up GridSearchCV to perform the search\n",
        "grid_search = GridSearchCV(estimator=xgb_model, param_grid=param_grid, cv=5, verbose=1, n_jobs=-1, scoring='roc_auc')\n",
        "\n",
        "# Perform the grid search on the sampled data\n",
        "grid_search.fit(X_train, y_train)\n",
        "\n",
        "# Output the best parameters and score\n",
        "print(\"Best Hyperparameters:\", grid_search.best_params_)\n",
        "print(\"Best Cross-validation Accuracy:\", grid_search.best_score_)\n"
      ],
      "metadata": {
        "id": "6pXHhaNSfhub",
        "colab": {
          "base_uri": "https://localhost:8080/",
          "height": 211
        },
        "outputId": "0af3f585-07a6-4dfc-e736-c6eb96b66464"
      },
      "execution_count": null,
      "outputs": [
        {
          "output_type": "error",
          "ename": "NameError",
          "evalue": "name 'param_grid' is not defined",
          "traceback": [
            "\u001b[0;31m---------------------------------------------------------------------------\u001b[0m",
            "\u001b[0;31mNameError\u001b[0m                                 Traceback (most recent call last)",
            "\u001b[0;32m<ipython-input-32-58842c901a16>\u001b[0m in \u001b[0;36m<cell line: 19>\u001b[0;34m()\u001b[0m\n\u001b[1;32m     17\u001b[0m \u001b[0;34m\u001b[0m\u001b[0m\n\u001b[1;32m     18\u001b[0m \u001b[0;31m# Set up GridSearchCV to perform the search\u001b[0m\u001b[0;34m\u001b[0m\u001b[0;34m\u001b[0m\u001b[0m\n\u001b[0;32m---> 19\u001b[0;31m \u001b[0mgrid_search\u001b[0m \u001b[0;34m=\u001b[0m \u001b[0mGridSearchCV\u001b[0m\u001b[0;34m(\u001b[0m\u001b[0mestimator\u001b[0m\u001b[0;34m=\u001b[0m\u001b[0mxgb_model\u001b[0m\u001b[0;34m,\u001b[0m \u001b[0mparam_grid\u001b[0m\u001b[0;34m=\u001b[0m\u001b[0mparam_grid\u001b[0m\u001b[0;34m,\u001b[0m \u001b[0mcv\u001b[0m\u001b[0;34m=\u001b[0m\u001b[0;36m5\u001b[0m\u001b[0;34m,\u001b[0m \u001b[0mverbose\u001b[0m\u001b[0;34m=\u001b[0m\u001b[0;36m1\u001b[0m\u001b[0;34m,\u001b[0m \u001b[0mn_jobs\u001b[0m\u001b[0;34m=\u001b[0m\u001b[0;34m-\u001b[0m\u001b[0;36m1\u001b[0m\u001b[0;34m,\u001b[0m \u001b[0mscoring\u001b[0m\u001b[0;34m=\u001b[0m\u001b[0;34m'roc_auc'\u001b[0m\u001b[0;34m)\u001b[0m\u001b[0;34m\u001b[0m\u001b[0;34m\u001b[0m\u001b[0m\n\u001b[0m\u001b[1;32m     20\u001b[0m \u001b[0;34m\u001b[0m\u001b[0m\n\u001b[1;32m     21\u001b[0m \u001b[0;31m# Perform the grid search on the sampled data\u001b[0m\u001b[0;34m\u001b[0m\u001b[0;34m\u001b[0m\u001b[0m\n",
            "\u001b[0;31mNameError\u001b[0m: name 'param_grid' is not defined"
          ]
        }
      ]
    },
    {
      "cell_type": "code",
      "source": [
        "import xgboost as xgb\n",
        "from sklearn.metrics import classification_report, accuracy_score, confusion_matrix\n",
        "\n",
        "# Calculate scale_pos_weight\n",
        "negative_class_count = sum(y_train == 0)\n",
        "positive_class_count = sum(y_train == 1)\n",
        "scale_pos_weight = negative_class_count / positive_class_count\n",
        "\n",
        "# Initialize the model with the best hyperparameters\n",
        "xgb_best = xgb.XGBClassifier(\n",
        "    random_state=42,\n",
        "    eval_metric='mlogloss',\n",
        "    colsample_bytree=1.0,\n",
        "    gamma=0,\n",
        "    learning_rate=0.1,\n",
        "    max_depth=7,\n",
        "    n_estimators=200,\n",
        "    subsample=0.8,\n",
        "    scale_pos_weight=4  # Handle class imbalance\n",
        ")\n",
        "\n",
        "# Train the model on the full training data\n",
        "xgb_best.fit(X_train, y_train)\n",
        "\n",
        "# Make predictions on the test set\n",
        "y_pred = xgb_best.predict(X_test)\n",
        "\n",
        "\n"
      ],
      "metadata": {
        "id": "8o-kB2DUfoLv"
      },
      "execution_count": null,
      "outputs": []
    },
    {
      "cell_type": "markdown",
      "source": [
        "# **Evaluation**"
      ],
      "metadata": {
        "id": "HjctvpfrUrKk"
      }
    },
    {
      "cell_type": "code",
      "source": [
        "from sklearn.metrics import confusion_matrix, ConfusionMatrixDisplay, roc_curve, roc_auc_score, accuracy_score, classification_report, auc\n",
        "import matplotlib.pyplot as plt\n",
        "\n",
        "# Predict probabilities and labels\n",
        "y_pred_proba = xgb_best.predict_proba(X_test)[:, 1]  # Predicted probabilities for class 1\n",
        "y_pred = xgb_best.predict(X_test)  # Predicted class labels\n",
        "\n",
        "# Calculate ROC-AUC\n",
        "roc_auc = roc_auc_score(y_test, y_pred_proba)\n",
        "print(f\"ROC-AUC on Test Data: {roc_auc:.4f}\")\n",
        "\n",
        "# Classification report\n",
        "print(\"\\nClassification Report:\\n\", classification_report(y_test, y_pred))\n",
        "\n",
        "# Confusion Matrix\n",
        "conf_matrix = confusion_matrix(y_test, y_pred)\n",
        "ConfusionMatrixDisplay(conf_matrix).plot()\n",
        "plt.title(\"Confusion Matrix\")\n",
        "plt.show()\n",
        "\n",
        "# ROC Curve\n",
        "fpr, tpr, thresholds = roc_curve(y_test, y_pred_proba)\n",
        "plt.figure()\n",
        "plt.plot(fpr, tpr, color=\"darkorange\", label=f\"ROC Curve (AUC = {roc_auc:.4f})\")\n",
        "plt.plot([0, 1], [0, 1], color=\"navy\", linestyle=\"--\")\n",
        "plt.xlabel(\"False Positive Rate\")\n",
        "plt.ylabel(\"True Positive Rate\")\n",
        "plt.title(\"Receiver Operating Characteristic (ROC) Curve\")\n",
        "plt.legend(loc=\"lower right\")\n",
        "plt.show()\n"
      ],
      "metadata": {
        "colab": {
          "base_uri": "https://localhost:8080/",
          "height": 1000
        },
        "id": "qPjY_rgkRv_J",
        "outputId": "08614a23-c46c-4b22-ba7b-df23087f091d"
      },
      "execution_count": null,
      "outputs": [
        {
          "output_type": "stream",
          "name": "stdout",
          "text": [
            "ROC-AUC on Test Data: 0.8318\n",
            "\n",
            "Classification Report:\n",
            "               precision    recall  f1-score   support\n",
            "\n",
            "           0       0.92      0.77      0.83     39920\n",
            "           1       0.44      0.73      0.55     10080\n",
            "\n",
            "    accuracy                           0.76     50000\n",
            "   macro avg       0.68      0.75      0.69     50000\n",
            "weighted avg       0.82      0.76      0.78     50000\n",
            "\n"
          ]
        },
        {
          "output_type": "display_data",
          "data": {
            "text/plain": [
              "<Figure size 640x480 with 2 Axes>"
            ],
            "image/png": "[encoded data removed]"
          },
          "metadata": {}
        },
        {
          "output_type": "display_data",
          "data": {
            "text/plain": [
              "<Figure size 640x480 with 1 Axes>"
            ],
            "image/png": "[encoded data removed]"
          },
          "metadata": {}
        }
      ]
    },
    {
      "cell_type": "code",
      "source": [
        "import matplotlib.pyplot as plt\n",
        "import pandas as pd\n",
        "\n",
        "# Extract feature importance\n",
        "feature_importances = pd.DataFrame({\n",
        "    'Feature': X_train.columns,\n",
        "    'Importance': xgb_best.feature_importances_\n",
        "}).sort_values(by='Importance', ascending=False)\n",
        "\n",
        "# Plot feature importance\n",
        "plt.figure(figsize=(10, 6))\n",
        "plt.barh(feature_importances['Feature'], feature_importances['Importance'], color='skyblue')\n",
        "plt.xlabel('Feature Importance')\n",
        "plt.ylabel('Features')\n",
        "plt.title('Feature Importance in Random Forest')\n",
        "plt.gca().invert_yaxis()\n",
        "plt.show()\n"
      ],
      "metadata": {
        "colab": {
          "base_uri": "https://localhost:8080/",
          "height": 564
        },
        "id": "gESsdQRgT7CP",
        "outputId": "0647efcf-3ec1-4632-b29b-ad71016ca7a7"
      },
      "execution_count": null,
      "outputs": [
        {
          "output_type": "display_data",
          "data": {
            "text/plain": [
              "<Figure size 1000x600 with 1 Axes>"
            ],
            "image/png": "[encoded data removed]"
          },
          "metadata": {}
        }
      ]
    }
  ],
  "metadata": {
    "colab": {
      "provenance": [],
      "collapsed_sections": [
        "XEBDNROaeVyk",
        "DkXW_q_LeuFU",
        "8lkOXeJenBQI"
      ]
    },
    "kernelspec": {
      "display_name": "Python 3",
      "name": "python3"
    },
    "language_info": {
      "name": "python"
    }
  },
  "nbformat": 4,
  "nbformat_minor": 0
}